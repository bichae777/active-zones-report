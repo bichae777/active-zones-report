{
 "cells": [
  {
   "cell_type": "code",
   "execution_count": 151,
   "id": "6e9dddaf",
   "metadata": {},
   "outputs": [
    {
     "name": "stdout",
     "output_type": "stream",
     "text": [
      "✓ matplotlib 한글 폰트 설정: AppleGothic\n"
     ]
    }
   ],
   "source": [
    "import matplotlib.pyplot as plt\n",
    "from matplotlib import font_manager, rcParams\n",
    "import platform, warnings, os\n",
    "\n",
    "# ── 1) OS별 기본 한글 폰트 후보 ----------------------------------------------\n",
    "if platform.system() == \"Darwin\":        # macOS\n",
    "    font_name = \"AppleGothic\"\n",
    "elif platform.system() == \"Windows\":     # Windows\n",
    "    font_name = \"Malgun Gothic\"\n",
    "else:                                    # Linux: 나눔폰트(설치돼 있어야 함)\n",
    "    font_name = \"NanumGothic\"\n",
    "\n",
    "# ── 2) 폰트 존재 여부 확인 후 세팅 --------------------------------------------\n",
    "if font_name not in [f.name for f in font_manager.fontManager.ttflist]:\n",
    "    warnings.warn(f\"⚠ '{font_name}' 폰트를 찾을 수 없습니다. 다른 한글 폰트로 교체하세요!\")\n",
    "\n",
    "rcParams[\"font.family\"] = font_name\n",
    "rcParams[\"axes.unicode_minus\"] = False   # 마이너스 기호 깨짐 방지\n",
    "\n",
    "print(f\"✓ matplotlib 한글 폰트 설정: {font_name}\")\n"
   ]
  },
  {
   "cell_type": "code",
   "execution_count": 152,
   "id": "19491430",
   "metadata": {},
   "outputs": [
    {
     "name": "stdout",
     "output_type": "stream",
     "text": [
      "✅ 루트: /Users/bichae/active-zones-report\n"
     ]
    }
   ],
   "source": [
    "# ── 루트 자동 고정 ───────────────────────────────────────────────────\n",
    "from pathlib import Path, os, sys\n",
    "p = Path.cwd()\n",
    "while p != p.parent and not (p / \"data\" / \"raw\").exists():\n",
    "    p = p.parent\n",
    "os.chdir(p)\n",
    "print(\"✅ 루트:\", p)\n",
    "\n",
    "import matplotlib.pyplot as plt\n",
    "from matplotlib import font_manager as fm   # 폰트 관리 모듈\n",
    "\n",
    "# ▼ 시스템에 따라 사용 가능한 한글 폰트 이름을 지정하세요\n",
    "#   • macOS   : \"AppleGothic\"\n",
    "#   • Windows : \"Malgun Gothic\"\n",
    "#   • Ubuntu  : \"NanumGothic\"\n",
    "plt.rcParams['font.family'] = 'AppleGothic'     # ← 예: mac 기준\n",
    "plt.rcParams['axes.unicode_minus'] = False      # ➊ 음수 부호(−) 깨짐 방지\n"
   ]
  },
  {
   "cell_type": "code",
   "execution_count": 153,
   "id": "03f25b40",
   "metadata": {},
   "outputs": [
    {
     "name": "stdout",
     "output_type": "stream",
     "text": [
      "▲ with_flags 파일 로드\n"
     ]
    },
    {
     "ename": "AttributeError",
     "evalue": "'DataFrame' object has no attribute 'is_active_50'",
     "output_type": "error",
     "traceback": [
      "\u001b[31m---------------------------------------------------------------------------\u001b[39m",
      "\u001b[31mAttributeError\u001b[39m                            Traceback (most recent call last)",
      "\u001b[32m/var/folders/n2/zv57chv558n8skgcplvrzwhc0000gn/T/ipykernel_9566/3849495069.py\u001b[39m in \u001b[36m?\u001b[39m\u001b[34m()\u001b[39m\n\u001b[32m     18\u001b[39m     df[\u001b[33m\"is_active_10\"\u001b[39m] = df[[\u001b[33mf\"{m}_high10\"\u001b[39m \u001b[38;5;28;01mfor\u001b[39;00m m \u001b[38;5;28;01min\u001b[39;00m metrics]].sum(axis=\u001b[32m1\u001b[39m) >= \u001b[32m2\u001b[39m\n\u001b[32m     19\u001b[39m     df[\u001b[33m\"is_active_50\"\u001b[39m] = df[[\u001b[33mf\"{m}_high50\"\u001b[39m \u001b[38;5;28;01mfor\u001b[39;00m m \u001b[38;5;28;01min\u001b[39;00m metrics]].all(axis=\u001b[32m1\u001b[39m)\n\u001b[32m     20\u001b[39m \n\u001b[32m     21\u001b[39m print(f\"총 상권 {len(df)}개 | 75% 활발 {df.is_active_25.sum()}개 | \"\n\u001b[32m---> \u001b[39m\u001b[32m22\u001b[39m       f\"90% 활발 {df.is_active_10.sum()}개 | Median 기준 {df.is_active_50.sum()}개\")\n",
      "\u001b[32m/opt/homebrew/Caskroom/miniconda/base/envs/gopchang-locator/lib/python3.11/site-packages/pandas/core/generic.py\u001b[39m in \u001b[36m?\u001b[39m\u001b[34m(self, name)\u001b[39m\n\u001b[32m   6314\u001b[39m             \u001b[38;5;28;01mand\u001b[39;00m name \u001b[38;5;28;01mnot\u001b[39;00m \u001b[38;5;28;01min\u001b[39;00m self._accessors\n\u001b[32m   6315\u001b[39m             \u001b[38;5;28;01mand\u001b[39;00m self._info_axis._can_hold_identifiers_and_holds_name(name)\n\u001b[32m   6316\u001b[39m         ):\n\u001b[32m   6317\u001b[39m             \u001b[38;5;28;01mreturn\u001b[39;00m self[name]\n\u001b[32m-> \u001b[39m\u001b[32m6318\u001b[39m         \u001b[38;5;28;01mreturn\u001b[39;00m object.__getattribute__(self, name)\n",
      "\u001b[31mAttributeError\u001b[39m: 'DataFrame' object has no attribute 'is_active_50'"
     ]
    }
   ],
   "source": [
    "import pandas as pd, numpy as np, matplotlib.pyplot as plt, seaborn as sns, os\n",
    "\n",
    "try:\n",
    "    df = pd.read_csv(\"data/processed/merged_annual_2024_with_flags.csv\", encoding=\"utf-8-sig\")\n",
    "    print(\"▲ with_flags 파일 로드\")\n",
    "except FileNotFoundError:\n",
    "    df = pd.read_csv(\"data/processed/merged_annual_2024.csv\", encoding=\"utf-8-sig\")\n",
    "    print(\"▲ 기본 연간 CSV 로드 → 플래그 즉석 계산\")\n",
    "    metrics = [\"resident_pop_2024\",\"floating_pop_2024\",\"estimated_sales_2024\"]\n",
    "    q75 = {m: df[m].quantile(0.75) for m in metrics}\n",
    "    q90 = {m: df[m].quantile(0.90) for m in metrics}\n",
    "    med = {m: df[m].median()          for m in metrics}\n",
    "    for m in metrics:\n",
    "        df[f\"{m}_high25\"] = df[m] >= q75[m]\n",
    "        df[f\"{m}_high10\"] = df[m] >= q90[m]\n",
    "        df[f\"{m}_high50\"] = df[m] >= med[m]\n",
    "    df[\"is_active_25\"] = df[[f\"{m}_high25\" for m in metrics]].sum(axis=1) >= 2\n",
    "    df[\"is_active_10\"] = df[[f\"{m}_high10\" for m in metrics]].sum(axis=1) >= 2\n",
    "    df[\"is_active_50\"] = df[[f\"{m}_high50\" for m in metrics]].all(axis=1)\n",
    "\n",
    "print(f\"총 상권 {len(df)}개 | 75% 활발 {df.is_active_25.sum()}개 | \"\n",
    "      f\"90% 활발 {df.is_active_10.sum()}개 | Median 기준 {df.is_active_50.sum()}개\")\n"
   ]
  },
  {
   "cell_type": "code",
   "execution_count": null,
   "id": "2928e2bf",
   "metadata": {},
   "outputs": [
    {
     "ename": "AttributeError",
     "evalue": "'DataFrame' object has no attribute 'is_active_50'",
     "output_type": "error",
     "traceback": [
      "\u001b[31m---------------------------------------------------------------------------\u001b[39m",
      "\u001b[31mAttributeError\u001b[39m                            Traceback (most recent call last)",
      "\u001b[32m/var/folders/n2/zv57chv558n8skgcplvrzwhc0000gn/T/ipykernel_9566/2262803721.py\u001b[39m in \u001b[36m?\u001b[39m\u001b[34m()\u001b[39m\n\u001b[32m      1\u001b[39m counts = {\n\u001b[32m      2\u001b[39m     \u001b[33m\"75% 기준\\n(2지표↑)\"\u001b[39m: df.is_active_25.sum(),\n\u001b[32m      3\u001b[39m     \u001b[33m\"90% 기준\\n(2지표↑)\"\u001b[39m: df.is_active_10.sum(),\n\u001b[32m----> \u001b[39m\u001b[32m4\u001b[39m     \u001b[33m\"Median 기준\\n(3지표 모두)\"\u001b[39m: df.is_active_50.sum(),\n\u001b[32m      5\u001b[39m }\n\u001b[32m      6\u001b[39m plt.figure(figsize=(\u001b[32m6\u001b[39m,\u001b[32m4\u001b[39m))\n\u001b[32m      7\u001b[39m bars = plt.bar(counts.keys(), counts.values(), edgecolor=\u001b[33m\"k\"\u001b[39m, color=\u001b[33m\"#5DADE2\"\u001b[39m)\n",
      "\u001b[32m/opt/homebrew/Caskroom/miniconda/base/envs/gopchang-locator/lib/python3.11/site-packages/pandas/core/generic.py\u001b[39m in \u001b[36m?\u001b[39m\u001b[34m(self, name)\u001b[39m\n\u001b[32m   6314\u001b[39m             \u001b[38;5;28;01mand\u001b[39;00m name \u001b[38;5;28;01mnot\u001b[39;00m \u001b[38;5;28;01min\u001b[39;00m self._accessors\n\u001b[32m   6315\u001b[39m             \u001b[38;5;28;01mand\u001b[39;00m self._info_axis._can_hold_identifiers_and_holds_name(name)\n\u001b[32m   6316\u001b[39m         ):\n\u001b[32m   6317\u001b[39m             \u001b[38;5;28;01mreturn\u001b[39;00m self[name]\n\u001b[32m-> \u001b[39m\u001b[32m6318\u001b[39m         \u001b[38;5;28;01mreturn\u001b[39;00m object.__getattribute__(self, name)\n",
      "\u001b[31mAttributeError\u001b[39m: 'DataFrame' object has no attribute 'is_active_50'"
     ]
    }
   ],
   "source": [
    "counts = {\n",
    "    \"75% 기준\\n(2지표↑)\": df.is_active_25.sum(),\n",
    "    \"90% 기준\\n(2지표↑)\": df.is_active_10.sum(),\n",
    "    \"Median 기준\\n(3지표 모두)\": df.is_active_50.sum(),\n",
    "}\n",
    "plt.figure(figsize=(6,4))\n",
    "bars = plt.bar(counts.keys(), counts.values(), edgecolor=\"k\", color=\"#5DADE2\")\n",
    "for b in bars:\n",
    "    plt.text(b.get_x()+b.get_width()/2, b.get_height()+5, f\"{int(b.get_height())}\", ha=\"center\")\n",
    "plt.title(\"퍼센타일 기준별 활발 상권 수\")\n",
    "plt.ylabel(\"상권 수\")\n",
    "plt.xticks(rotation=15, ha=\"right\")\n",
    "plt.tight_layout()\n",
    "plt.show()\n",
    "# 저장(선택)\n",
    "# os.makedirs(\"reports/figures\", exist_ok=True)\n",
    "# plt.savefig(\"reports/figures/active_zones_bar.png\", dpi=200)\n"
   ]
  },
  {
   "cell_type": "code",
   "execution_count": 154,
   "id": "93629e43",
   "metadata": {},
   "outputs": [
    {
     "data": {
      "image/png": "[encoded data removed]",
      "text/plain": [
       "<Figure size 500x300 with 1 Axes>"
      ]
     },
     "metadata": {},
     "output_type": "display_data"
    },
    {
     "data": {
      "image/png": "[encoded data removed]",
      "text/plain": [
       "<Figure size 500x300 with 1 Axes>"
      ]
     },
     "metadata": {},
     "output_type": "display_data"
    },
    {
     "data": {
      "image/png": "[encoded data removed]",
      "text/plain": [
       "<Figure size 500x300 with 1 Axes>"
      ]
     },
     "metadata": {},
     "output_type": "display_data"
    }
   ],
   "source": [
    "metrics = [\"resident_pop_2024\",\"floating_pop_2024\",\"estimated_sales_2024\"]\n",
    "for m in metrics:\n",
    "    plt.figure(figsize=(5,3))\n",
    "    plt.hist(df[m], bins=50, alpha=0.3, label=\"전체 상권\")\n",
    "    plt.hist(df.loc[df.is_active_25, m], bins=50, alpha=0.6, label=\"활발(75%)\")\n",
    "    plt.title(f\"{m} 분포 (활발 상권 강조)\")\n",
    "    plt.xlabel(m); plt.ylabel(\"상권 수\")\n",
    "    plt.legend(); plt.tight_layout(); plt.show()\n"
   ]
  },
  {
   "cell_type": "code",
   "execution_count": 155,
   "id": "6d112067",
   "metadata": {},
   "outputs": [
    {
     "data": {
      "image/png": "[encoded data removed]",
      "text/plain": [
       "<Figure size 500x500 with 1 Axes>"
      ]
     },
     "metadata": {},
     "output_type": "display_data"
    }
   ],
   "source": [
    "plt.figure(figsize=(5,5))\n",
    "plt.scatter(df.resident_pop_2024, df.floating_pop_2024,\n",
    "            s=10, alpha=0.25, label=\"전체 상권\")\n",
    "plt.scatter(df.loc[df.is_active_25, \"resident_pop_2024\"],\n",
    "            df.loc[df.is_active_25, \"floating_pop_2024\"],\n",
    "            s=20, alpha=0.7, label=\"활발 상권\", color=\"#E74C3C\")\n",
    "plt.xlabel(\"상주인구 2024 합계\"); plt.ylabel(\"유동인구 2024 합계\")\n",
    "plt.title(\"상주 vs 유동 산점도 (활발 상권 강조)\")\n",
    "plt.legend(); plt.tight_layout(); plt.show()\n"
   ]
  },
  {
   "cell_type": "code",
   "execution_count": 156,
   "id": "8fdb05d5",
   "metadata": {},
   "outputs": [
    {
     "name": "stdout",
     "output_type": "stream",
     "text": [
      "✓ matplotlib 한글 폰트 설정: AppleGothic\n"
     ]
    },
    {
     "name": "stderr",
     "output_type": "stream",
     "text": [
      "/var/folders/n2/zv57chv558n8skgcplvrzwhc0000gn/T/ipykernel_9566/3775888215.py:27: UserWarning: Glyph 8320 (\\N{SUBSCRIPT ZERO}) missing from font(s) AppleGothic.\n",
      "  plt.tight_layout(); plt.show()\n",
      "/opt/homebrew/Caskroom/miniconda/base/envs/gopchang-locator/lib/python3.11/site-packages/IPython/core/pylabtools.py:170: UserWarning: Glyph 8320 (\\N{SUBSCRIPT ZERO}) missing from font(s) AppleGothic.\n",
      "  fig.canvas.print_figure(bytes_io, **kw)\n"
     ]
    },
    {
     "data": {
      "image/png": "[encoded data removed]",
      "text/plain": [
       "<Figure size 500x300 with 1 Axes>"
      ]
     },
     "metadata": {},
     "output_type": "display_data"
    }
   ],
   "source": [
    "import matplotlib.pyplot as plt\n",
    "from matplotlib import font_manager, rcParams\n",
    "import platform, warnings, os\n",
    "\n",
    "# ── 1) OS별 기본 한글 폰트 후보 ----------------------------------------------\n",
    "if platform.system() == \"Darwin\":        # macOS\n",
    "    font_name = \"AppleGothic\"\n",
    "elif platform.system() == \"Windows\":     # Windows\n",
    "    font_name = \"Malgun Gothic\"\n",
    "else:                                    # Linux: 나눔폰트(설치돼 있어야 함)\n",
    "    font_name = \"NanumGothic\"\n",
    "\n",
    "# ── 2) 폰트 존재 여부 확인 후 세팅 --------------------------------------------\n",
    "if font_name not in [f.name for f in font_manager.fontManager.ttflist]:\n",
    "    warnings.warn(f\"⚠ '{font_name}' 폰트를 찾을 수 없습니다. 다른 한글 폰트로 교체하세요!\")\n",
    "\n",
    "rcParams[\"font.family\"] = font_name\n",
    "rcParams[\"axes.unicode_minus\"] = False   # 마이너스 기호 깨짐 방지\n",
    "\n",
    "print(f\"✓ matplotlib 한글 폰트 설정: {font_name}\")\n",
    "\n",
    "\n",
    "plt.figure(figsize=(5,3))\n",
    "plt.hist(np.log1p(df[\"estimated_sales_2024\"]), bins=60, edgecolor=\"k\")\n",
    "plt.title(\"log1p(estimated_sales_2024) 분포\")\n",
    "plt.xlabel(\"log₁₀(매출)\"); plt.ylabel(\"상권 수\")\n",
    "plt.tight_layout(); plt.show()\n"
   ]
  },
  {
   "cell_type": "code",
   "execution_count": null,
   "id": "0bbb7784",
   "metadata": {},
   "outputs": [
    {
     "data": {
      "application/vnd.microsoft.datawrangler.viewer.v0+json": {
       "columns": [
        {
         "name": "상권_구분_코드_명",
         "rawType": "object",
         "type": "string"
        },
        {
         "name": "mean",
         "rawType": "float64",
         "type": "float"
        },
        {
         "name": "count",
         "rawType": "int64",
         "type": "integer"
        }
       ],
       "ref": "a3053092-44a6-480c-a355-bd5735024777",
       "rows": [
        [
         "관광특구",
         "2.866917851423389",
         "6"
        ],
        [
         "발달상권",
         "0.4571711325214859",
         "245"
        ],
        [
         "골목상권",
         "-0.0024387746578810672",
         "1041"
        ],
        [
         "전통시장",
         "-0.45401315468620146",
         "279"
        ]
       ],
       "shape": {
        "columns": 2,
        "rows": 4
       }
      },
      "text/html": [
       "<div>\n",
       "<style scoped>\n",
       "    .dataframe tbody tr th:only-of-type {\n",
       "        vertical-align: middle;\n",
       "    }\n",
       "\n",
       "    .dataframe tbody tr th {\n",
       "        vertical-align: top;\n",
       "    }\n",
       "\n",
       "    .dataframe thead th {\n",
       "        text-align: right;\n",
       "    }\n",
       "</style>\n",
       "<table border=\"1\" class=\"dataframe\">\n",
       "  <thead>\n",
       "    <tr style=\"text-align: right;\">\n",
       "      <th></th>\n",
       "      <th>mean</th>\n",
       "      <th>count</th>\n",
       "    </tr>\n",
       "    <tr>\n",
       "      <th>상권_구분_코드_명</th>\n",
       "      <th></th>\n",
       "      <th></th>\n",
       "    </tr>\n",
       "  </thead>\n",
       "  <tbody>\n",
       "    <tr>\n",
       "      <th>관광특구</th>\n",
       "      <td>2.866918</td>\n",
       "      <td>6</td>\n",
       "    </tr>\n",
       "    <tr>\n",
       "      <th>발달상권</th>\n",
       "      <td>0.457171</td>\n",
       "      <td>245</td>\n",
       "    </tr>\n",
       "    <tr>\n",
       "      <th>골목상권</th>\n",
       "      <td>-0.002439</td>\n",
       "      <td>1041</td>\n",
       "    </tr>\n",
       "    <tr>\n",
       "      <th>전통시장</th>\n",
       "      <td>-0.454013</td>\n",
       "      <td>279</td>\n",
       "    </tr>\n",
       "  </tbody>\n",
       "</table>\n",
       "</div>"
      ],
      "text/plain": [
       "                mean  count\n",
       "상권_구분_코드_명                 \n",
       "관광특구        2.866918      6\n",
       "발달상권        0.457171    245\n",
       "골목상권       -0.002439   1041\n",
       "전통시장       -0.454013    279"
      ]
     },
     "metadata": {},
     "output_type": "display_data"
    }
   ],
   "source": [
    "import pandas as pd, numpy as np\n",
    "\n",
    "# ── 1) 연간 집계 + 플래그 CSV 로드 ─────────────────────────\n",
    "df = pd.read_csv(\"data/processed/merged_annual_2024_with_flags.csv\",\n",
    "                encoding=\"utf-8-sig\")\n",
    "\n",
    "# ── 2) 골목·발달·관광특구 … 상권구분 붙이기 ─────────────────\n",
    "cat = (pd.read_csv(\"data/raw/서울시 상권분석서비스(길단위인구-상권).csv\",\n",
    "                encoding=\"cp949\",\n",
    "                usecols=[\"상권_코드\", \"상권_구분_코드_명\"])\n",
    "         .drop_duplicates())\n",
    "df = df.merge(cat, on=\"상권_코드\", how=\"left\")\n",
    "\n",
    "# ── 3) score(세 지표 Z-점수 평균) 계산 ───────────────────────\n",
    "metrics = [\"resident_pop_2024\",\n",
    "        \"floating_pop_2024\",\n",
    "        \"estimated_sales_2024\"]\n",
    "\n",
    "for m in metrics:\n",
    "    df[f\"z_{m}\"] = (df[m] - df[m].mean()) / df[m].std()\n",
    "\n",
    "df[\"score\"] = df[[f\"z_{m}\" for m in metrics]].mean(axis=1)\n",
    "\n",
    "# ── 4) 상권 유형별 평균·표본 수 ──────────────────────────────\n",
    "type_mean = (df.groupby(\"상권_구분_코드_명\")[\"score\"]\n",
    "            .agg(mean=\"mean\", count=\"count\")\n",
    "            .sort_values(\"mean\", ascending=False))\n",
    "display(type_mean)\n"
   ]
  },
  {
   "cell_type": "code",
   "execution_count": null,
   "id": "9b05c514",
   "metadata": {},
   "outputs": [],
   "source": [
    "# ───────────────────────────────────────────────────────────────────\n",
    "# 1) CSV 헤더에서 자치구·행정동 컬럼 이름을 자동으로 찾아주는 함수\n",
    "# ───────────────────────────────────────────────────────────────────\n",
    "import re\n",
    "\n",
    "def guess_col(patterns, columns):\n",
    "    \"\"\"\n",
    "    columns 리스트에서 정규식 리스트(patterns)와 매칭되는\n",
    "    첫 번째 컬럼명을 반환. 없으면 None.\n",
    "    \"\"\"\n",
    "    for pat in patterns:                # 1단계: 패턴 루프\n",
    "        for col in columns:             # 2단계: 컬럼 루프\n",
    "            if re.search(pat, col, re.I):\n",
    "                return col\n",
    "    return None"
   ]
  },
  {
   "cell_type": "code",
   "execution_count": null,
   "id": "47ac04b0",
   "metadata": {},
   "outputs": [
    {
     "name": "stdout",
     "output_type": "stream",
     "text": [
      "['TRDAR_SE_C',\n",
      " 'TRDAR_SE_1',\n",
      " 'TRDAR_CD',\n",
      " 'TRDAR_CD_N',\n",
      " 'XCNTS_VALU',\n",
      " 'YDNTS_VALU',\n",
      " 'SIGNGU_CD',\n",
      " 'SIGNGU_CD_',\n",
      " 'ADSTRD_CD',\n",
      " 'ADSTRD_CD_',\n",
      " 'RELM_AR',\n",
      " 'geometry']\n"
     ]
    }
   ],
   "source": [
    "import geopandas as gpd, glob, pprint\n",
    "shp = glob.glob(\"data/raw/상권경계/*.shp\")[0]\n",
    "gdf_head = gpd.read_file(shp, encoding=\"utf-8\", nrows=0)  # 헤더만\n",
    "pprint.pprint(list(gdf_head.columns))\n"
   ]
  },
  {
   "cell_type": "code",
   "execution_count": null,
   "id": "5970ba65",
   "metadata": {},
   "outputs": [
    {
     "name": "stdout",
     "output_type": "stream",
     "text": [
      "['시군구명_x', '시군구명_y']\n",
      "['행정동명_x', '행정동명_y']\n"
     ]
    }
   ],
   "source": [
    "# df 안에 '시군구' 글자가 들어간 모든 컬럼\n",
    "print([c for c in df.columns if \"시군구\" in c or \"SIGNGU\" in c])\n",
    "\n",
    "# df 안에 '행정동' 글자가 들어간 모든 컬럼\n",
    "print([c for c in df.columns if \"행정동\" in c or \"ADSTRD\" in c])\n"
   ]
  },
  {
   "cell_type": "code",
   "execution_count": null,
   "id": "36171e5a",
   "metadata": {},
   "outputs": [
    {
     "name": "stdout",
     "output_type": "stream",
     "text": [
      "        상권_코드                 상권_코드_명 시군구명  행정동명\n",
      "1     3001492  명동 남대문 북창동 다동 무교동 관광특구   중구   소공동\n",
      "638   3110661               강서새말어린이공원  강서구  화곡6동\n",
      "1175  3120131                 가산디지털단지  금천구   가산동\n",
      "1232  3120189                     강남역  서초구  서초2동\n"
     ]
    }
   ],
   "source": [
    "# ── 1) 두 열을 하나로 통합 (coalesce) ────────────────────────\n",
    "df[\"시군구명\"]  = df[\"시군구명_x\"].fillna(df[\"시군구명_y\"])\n",
    "df[\"행정동명\"]  = df[\"행정동명_x\"].fillna(df[\"행정동명_y\"])\n",
    "\n",
    "# ── 2) 불필요한 _x / _y 열 제거 ────────────────────────────\n",
    "df = df.drop(columns=[\"시군구명_x\", \"시군구명_y\",\n",
    "                      \"행정동명_x\", \"행정동명_y\"])\n",
    "\n",
    "# ── 3) 확인 ────────────────────────────────────────────────\n",
    "print(df.loc[df[\"상권_코드\"].isin([3001492, 3120189, 3110661, 3120131]),\n",
    "             [\"상권_코드\", \"상권_코드_명\", \"시군구명\", \"행정동명\"]])\n"
   ]
  },
  {
   "cell_type": "code",
   "execution_count": null,
   "id": "d3bf6ff4",
   "metadata": {},
   "outputs": [
    {
     "name": "stdout",
     "output_type": "stream",
     "text": [
      "   상권_구분_코드_명  시군구명  활발_상권_수\n",
      "24       골목상권   중랑구       18\n",
      "1        골목상권   강동구       17\n",
      "4        골목상권   관악구       17\n",
      "3        골목상권   강서구       16\n",
      "5        골목상권   광진구       16\n",
      "21       골목상권   은평구       13\n",
      "17       골목상권   송파구       12\n",
      "10       골목상권  동대문구       11\n",
      "2        골목상권   강북구       10\n",
      "6        골목상권   구로구        9\n",
      "16       골목상권   성북구        9\n",
      "11       골목상권   동작구        8\n",
      "18       골목상권   양천구        8\n",
      "19       골목상권  영등포구        8\n",
      "20       골목상권   용산구        8\n"
     ]
    }
   ],
   "source": [
    "# 1) 머지 접미사 정리  ───────────────────────────────────────────\n",
    "df[\"상권_구분_코드_명\"] = df.filter(like=\"상권_구분_코드_명\").bfill(axis=1).iloc[:,0]\n",
    "df = df.drop(columns=[c for c in df.columns if c.startswith(\"상권_구분_코드_명_\")])\n",
    "\n",
    "# 2) 자치구·유형별 활발 상권 수 집계  ─────────────────────────────\n",
    "summary = (df.groupby([\"상권_구분_코드_명\",\"시군구명\"])[\"is_active_25\"]\n",
    "             .sum()\n",
    "             .rename(\"활발_상권_수\")\n",
    "             .reset_index()\n",
    "             .sort_values([\"상권_구분_코드_명\",\"활발_상권_수\"], ascending=[True,False]))\n",
    "\n",
    "print(summary.head(15))     # 상위 일부 미리보기\n"
   ]
  },
  {
   "cell_type": "code",
   "execution_count": 158,
   "id": "ffb2c7d4",
   "metadata": {},
   "outputs": [
    {
     "ename": "KeyError",
     "evalue": "'상권_구분_코드_명'",
     "output_type": "error",
     "traceback": [
      "\u001b[31m---------------------------------------------------------------------------\u001b[39m",
      "\u001b[31mKeyError\u001b[39m                                  Traceback (most recent call last)",
      "\u001b[36mCell\u001b[39m\u001b[36m \u001b[39m\u001b[32mIn[158]\u001b[39m\u001b[32m, line 6\u001b[39m\n\u001b[32m      2\u001b[39m \u001b[38;5;28;01mimport\u001b[39;00m\u001b[38;5;250m \u001b[39m\u001b[34;01mpandas\u001b[39;00m\u001b[38;5;250m \u001b[39m\u001b[38;5;28;01mas\u001b[39;00m\u001b[38;5;250m \u001b[39m\u001b[34;01mpd\u001b[39;00m,\u001b[38;5;250m \u001b[39m\u001b[34;01mmatplotlib\u001b[39;00m\u001b[34;01m.\u001b[39;00m\u001b[34;01mpyplot\u001b[39;00m\u001b[38;5;250m \u001b[39m\u001b[38;5;28;01mas\u001b[39;00m\u001b[38;5;250m \u001b[39m\u001b[34;01mplt\u001b[39;00m,\u001b[38;5;250m \u001b[39m\u001b[34;01mseaborn\u001b[39;00m\u001b[38;5;250m \u001b[39m\u001b[38;5;28;01mas\u001b[39;00m\u001b[38;5;250m \u001b[39m\u001b[34;01msns\u001b[39;00m\n\u001b[32m      4\u001b[39m \u001b[38;5;66;03m# ── ① 집계 데이터 준비 ──────────────────────────────────────────\u001b[39;00m\n\u001b[32m      5\u001b[39m \u001b[38;5;66;03m# df 는 이미 '상권_구분_코드_명','시군구명','is_active_25' 컬럼이 포함돼 있어야 합니다.\u001b[39;00m\n\u001b[32m----> \u001b[39m\u001b[32m6\u001b[39m summary = (\u001b[43mdf\u001b[49m\u001b[43m.\u001b[49m\u001b[43mgroupby\u001b[49m\u001b[43m(\u001b[49m\u001b[43m[\u001b[49m\u001b[33;43m\"\u001b[39;49m\u001b[33;43m상권_구분_코드_명\u001b[39;49m\u001b[33;43m\"\u001b[39;49m\u001b[43m,\u001b[49m\u001b[33;43m\"\u001b[39;49m\u001b[33;43m시군구명\u001b[39;49m\u001b[33;43m\"\u001b[39;49m\u001b[43m]\u001b[49m\u001b[43m)\u001b[49m[\u001b[33m\"\u001b[39m\u001b[33mis_active_25\u001b[39m\u001b[33m\"\u001b[39m]\n\u001b[32m      7\u001b[39m              .sum().reset_index(name=\u001b[33m\"\u001b[39m\u001b[33m활발_상권_수\u001b[39m\u001b[33m\"\u001b[39m))\n\u001b[32m      9\u001b[39m \u001b[38;5;66;03m# 골목상권만 가져와 상위 15개 자치구 선택\u001b[39;00m\n\u001b[32m     10\u001b[39m g_summary = (summary.query(\u001b[33m\"\u001b[39m\u001b[33m상권_구분_코드_명 == \u001b[39m\u001b[33m'\u001b[39m\u001b[33m골목상권\u001b[39m\u001b[33m'\u001b[39m\u001b[33m\"\u001b[39m)\n\u001b[32m     11\u001b[39m                       .nlargest(\u001b[32m15\u001b[39m, \u001b[33m\"\u001b[39m\u001b[33m활발_상권_수\u001b[39m\u001b[33m\"\u001b[39m))\n",
      "\u001b[36mFile \u001b[39m\u001b[32m/opt/homebrew/Caskroom/miniconda/base/envs/gopchang-locator/lib/python3.11/site-packages/pandas/core/frame.py:9190\u001b[39m, in \u001b[36mDataFrame.groupby\u001b[39m\u001b[34m(self, by, axis, level, as_index, sort, group_keys, observed, dropna)\u001b[39m\n\u001b[32m   9187\u001b[39m \u001b[38;5;28;01mif\u001b[39;00m level \u001b[38;5;129;01mis\u001b[39;00m \u001b[38;5;28;01mNone\u001b[39;00m \u001b[38;5;129;01mand\u001b[39;00m by \u001b[38;5;129;01mis\u001b[39;00m \u001b[38;5;28;01mNone\u001b[39;00m:\n\u001b[32m   9188\u001b[39m     \u001b[38;5;28;01mraise\u001b[39;00m \u001b[38;5;167;01mTypeError\u001b[39;00m(\u001b[33m\"\u001b[39m\u001b[33mYou have to supply one of \u001b[39m\u001b[33m'\u001b[39m\u001b[33mby\u001b[39m\u001b[33m'\u001b[39m\u001b[33m and \u001b[39m\u001b[33m'\u001b[39m\u001b[33mlevel\u001b[39m\u001b[33m'\u001b[39m\u001b[33m\"\u001b[39m)\n\u001b[32m-> \u001b[39m\u001b[32m9190\u001b[39m \u001b[38;5;28;01mreturn\u001b[39;00m \u001b[43mDataFrameGroupBy\u001b[49m\u001b[43m(\u001b[49m\n\u001b[32m   9191\u001b[39m \u001b[43m    \u001b[49m\u001b[43mobj\u001b[49m\u001b[43m=\u001b[49m\u001b[38;5;28;43mself\u001b[39;49m\u001b[43m,\u001b[49m\n\u001b[32m   9192\u001b[39m \u001b[43m    \u001b[49m\u001b[43mkeys\u001b[49m\u001b[43m=\u001b[49m\u001b[43mby\u001b[49m\u001b[43m,\u001b[49m\n\u001b[32m   9193\u001b[39m \u001b[43m    \u001b[49m\u001b[43maxis\u001b[49m\u001b[43m=\u001b[49m\u001b[43maxis\u001b[49m\u001b[43m,\u001b[49m\n\u001b[32m   9194\u001b[39m \u001b[43m    \u001b[49m\u001b[43mlevel\u001b[49m\u001b[43m=\u001b[49m\u001b[43mlevel\u001b[49m\u001b[43m,\u001b[49m\n\u001b[32m   9195\u001b[39m \u001b[43m    \u001b[49m\u001b[43mas_index\u001b[49m\u001b[43m=\u001b[49m\u001b[43mas_index\u001b[49m\u001b[43m,\u001b[49m\n\u001b[32m   9196\u001b[39m \u001b[43m    \u001b[49m\u001b[43msort\u001b[49m\u001b[43m=\u001b[49m\u001b[43msort\u001b[49m\u001b[43m,\u001b[49m\n\u001b[32m   9197\u001b[39m \u001b[43m    \u001b[49m\u001b[43mgroup_keys\u001b[49m\u001b[43m=\u001b[49m\u001b[43mgroup_keys\u001b[49m\u001b[43m,\u001b[49m\n\u001b[32m   9198\u001b[39m \u001b[43m    \u001b[49m\u001b[43mobserved\u001b[49m\u001b[43m=\u001b[49m\u001b[43mobserved\u001b[49m\u001b[43m,\u001b[49m\n\u001b[32m   9199\u001b[39m \u001b[43m    \u001b[49m\u001b[43mdropna\u001b[49m\u001b[43m=\u001b[49m\u001b[43mdropna\u001b[49m\u001b[43m,\u001b[49m\n\u001b[32m   9200\u001b[39m \u001b[43m\u001b[49m\u001b[43m)\u001b[49m\n",
      "\u001b[36mFile \u001b[39m\u001b[32m/opt/homebrew/Caskroom/miniconda/base/envs/gopchang-locator/lib/python3.11/site-packages/pandas/core/groupby/groupby.py:1329\u001b[39m, in \u001b[36mGroupBy.__init__\u001b[39m\u001b[34m(self, obj, keys, axis, level, grouper, exclusions, selection, as_index, sort, group_keys, observed, dropna)\u001b[39m\n\u001b[32m   1326\u001b[39m \u001b[38;5;28mself\u001b[39m.dropna = dropna\n\u001b[32m   1328\u001b[39m \u001b[38;5;28;01mif\u001b[39;00m grouper \u001b[38;5;129;01mis\u001b[39;00m \u001b[38;5;28;01mNone\u001b[39;00m:\n\u001b[32m-> \u001b[39m\u001b[32m1329\u001b[39m     grouper, exclusions, obj = \u001b[43mget_grouper\u001b[49m\u001b[43m(\u001b[49m\n\u001b[32m   1330\u001b[39m \u001b[43m        \u001b[49m\u001b[43mobj\u001b[49m\u001b[43m,\u001b[49m\n\u001b[32m   1331\u001b[39m \u001b[43m        \u001b[49m\u001b[43mkeys\u001b[49m\u001b[43m,\u001b[49m\n\u001b[32m   1332\u001b[39m \u001b[43m        \u001b[49m\u001b[43maxis\u001b[49m\u001b[43m=\u001b[49m\u001b[43maxis\u001b[49m\u001b[43m,\u001b[49m\n\u001b[32m   1333\u001b[39m \u001b[43m        \u001b[49m\u001b[43mlevel\u001b[49m\u001b[43m=\u001b[49m\u001b[43mlevel\u001b[49m\u001b[43m,\u001b[49m\n\u001b[32m   1334\u001b[39m \u001b[43m        \u001b[49m\u001b[43msort\u001b[49m\u001b[43m=\u001b[49m\u001b[43msort\u001b[49m\u001b[43m,\u001b[49m\n\u001b[32m   1335\u001b[39m \u001b[43m        \u001b[49m\u001b[43mobserved\u001b[49m\u001b[43m=\u001b[49m\u001b[38;5;28;43;01mFalse\u001b[39;49;00m\u001b[43m \u001b[49m\u001b[38;5;28;43;01mif\u001b[39;49;00m\u001b[43m \u001b[49m\u001b[43mobserved\u001b[49m\u001b[43m \u001b[49m\u001b[38;5;129;43;01mis\u001b[39;49;00m\u001b[43m \u001b[49m\u001b[43mlib\u001b[49m\u001b[43m.\u001b[49m\u001b[43mno_default\u001b[49m\u001b[43m \u001b[49m\u001b[38;5;28;43;01melse\u001b[39;49;00m\u001b[43m \u001b[49m\u001b[43mobserved\u001b[49m\u001b[43m,\u001b[49m\n\u001b[32m   1336\u001b[39m \u001b[43m        \u001b[49m\u001b[43mdropna\u001b[49m\u001b[43m=\u001b[49m\u001b[38;5;28;43mself\u001b[39;49m\u001b[43m.\u001b[49m\u001b[43mdropna\u001b[49m\u001b[43m,\u001b[49m\n\u001b[32m   1337\u001b[39m \u001b[43m    \u001b[49m\u001b[43m)\u001b[49m\n\u001b[32m   1339\u001b[39m \u001b[38;5;28;01mif\u001b[39;00m observed \u001b[38;5;129;01mis\u001b[39;00m lib.no_default:\n\u001b[32m   1340\u001b[39m     \u001b[38;5;28;01mif\u001b[39;00m \u001b[38;5;28many\u001b[39m(ping._passed_categorical \u001b[38;5;28;01mfor\u001b[39;00m ping \u001b[38;5;129;01min\u001b[39;00m grouper.groupings):\n",
      "\u001b[36mFile \u001b[39m\u001b[32m/opt/homebrew/Caskroom/miniconda/base/envs/gopchang-locator/lib/python3.11/site-packages/pandas/core/groupby/grouper.py:1043\u001b[39m, in \u001b[36mget_grouper\u001b[39m\u001b[34m(obj, key, axis, level, sort, observed, validate, dropna)\u001b[39m\n\u001b[32m   1041\u001b[39m         in_axis, level, gpr = \u001b[38;5;28;01mFalse\u001b[39;00m, gpr, \u001b[38;5;28;01mNone\u001b[39;00m\n\u001b[32m   1042\u001b[39m     \u001b[38;5;28;01melse\u001b[39;00m:\n\u001b[32m-> \u001b[39m\u001b[32m1043\u001b[39m         \u001b[38;5;28;01mraise\u001b[39;00m \u001b[38;5;167;01mKeyError\u001b[39;00m(gpr)\n\u001b[32m   1044\u001b[39m \u001b[38;5;28;01melif\u001b[39;00m \u001b[38;5;28misinstance\u001b[39m(gpr, Grouper) \u001b[38;5;129;01mand\u001b[39;00m gpr.key \u001b[38;5;129;01mis\u001b[39;00m \u001b[38;5;129;01mnot\u001b[39;00m \u001b[38;5;28;01mNone\u001b[39;00m:\n\u001b[32m   1045\u001b[39m     \u001b[38;5;66;03m# Add key to exclusions\u001b[39;00m\n\u001b[32m   1046\u001b[39m     exclusions.add(gpr.key)\n",
      "\u001b[31mKeyError\u001b[39m: '상권_구분_코드_명'"
     ]
    }
   ],
   "source": [
    "\n",
    "\n",
    "# 필요 라이브러리\n",
    "import pandas as pd, matplotlib.pyplot as plt, seaborn as sns\n",
    "\n",
    "# ── ① 집계 데이터 준비 ──────────────────────────────────────────\n",
    "# df 는 이미 '상권_구분_코드_명','시군구명','is_active_25' 컬럼이 포함돼 있어야 합니다.\n",
    "summary = (df.groupby([\"상권_구분_코드_명\",\"시군구명\"])[\"is_active_25\"]\n",
    "             .sum().reset_index(name=\"활발_상권_수\"))\n",
    "\n",
    "# 골목상권만 가져와 상위 15개 자치구 선택\n",
    "g_summary = (summary.query(\"상권_구분_코드_명 == '골목상권'\")\n",
    "                      .nlargest(15, \"활발_상권_수\"))\n",
    "\n",
    "# ── ② 막대차트 그리기 ─────────────────────────────────────────\n",
    "plt.figure(figsize=(8, 6))\n",
    "sns.barplot(x=\"활발_상권_수\", y=\"시군구명\",\n",
    "            data=g_summary, palette=\"viridis\")\n",
    "\n",
    "plt.title(\"자치구별 활발 골목상권 수 (Top 15)\", fontsize=14)\n",
    "plt.xlabel(\"활발 골목상권 수(개)\")\n",
    "plt.ylabel(\"자치구\")\n",
    "plt.tight_layout()\n",
    "plt.show()\n"
   ]
  },
  {
   "cell_type": "code",
   "execution_count": null,
   "id": "c88b125a",
   "metadata": {},
   "outputs": [
    {
     "data": {
      "application/vnd.microsoft.datawrangler.viewer.v0+json": {
       "columns": [
        {
         "name": "상권_구분_코드_명",
         "rawType": "object",
         "type": "string"
        },
        {
         "name": "강남구",
         "rawType": "int64",
         "type": "integer"
        },
        {
         "name": "강동구",
         "rawType": "int64",
         "type": "integer"
        },
        {
         "name": "강북구",
         "rawType": "int64",
         "type": "integer"
        },
        {
         "name": "강서구",
         "rawType": "int64",
         "type": "integer"
        },
        {
         "name": "관악구",
         "rawType": "int64",
         "type": "integer"
        },
        {
         "name": "광진구",
         "rawType": "int64",
         "type": "integer"
        },
        {
         "name": "구로구",
         "rawType": "int64",
         "type": "integer"
        },
        {
         "name": "금천구",
         "rawType": "int64",
         "type": "integer"
        },
        {
         "name": "노원구",
         "rawType": "int64",
         "type": "integer"
        },
        {
         "name": "도봉구",
         "rawType": "int64",
         "type": "integer"
        },
        {
         "name": "동대문구",
         "rawType": "int64",
         "type": "integer"
        },
        {
         "name": "동작구",
         "rawType": "int64",
         "type": "integer"
        },
        {
         "name": "마포구",
         "rawType": "int64",
         "type": "integer"
        },
        {
         "name": "서대문구",
         "rawType": "int64",
         "type": "integer"
        },
        {
         "name": "서초구",
         "rawType": "int64",
         "type": "integer"
        }
       ],
       "ref": "c67d04bc-e76f-45c7-91fd-719a0f184460",
       "rows": [
        [
         "골목상권",
         "3",
         "17",
         "10",
         "16",
         "17",
         "16",
         "9",
         "3",
         "6",
         "7",
         "11",
         "8",
         "7",
         "6",
         "3"
        ],
        [
         "관광특구",
         "0",
         "0",
         "0",
         "0",
         "0",
         "0",
         "0",
         "0",
         "0",
         "0",
         "0",
         "0",
         "0",
         "0",
         "0"
        ],
        [
         "발달상권",
         "21",
         "4",
         "3",
         "3",
         "2",
         "6",
         "4",
         "2",
         "1",
         "0",
         "3",
         "3",
         "5",
         "3",
         "13"
        ],
        [
         "전통시장",
         "0",
         "0",
         "0",
         "0",
         "0",
         "0",
         "0",
         "0",
         "0",
         "1",
         "1",
         "0",
         "2",
         "0",
         "0"
        ]
       ],
       "shape": {
        "columns": 15,
        "rows": 4
       }
      },
      "text/html": [
       "<div>\n",
       "<style scoped>\n",
       "    .dataframe tbody tr th:only-of-type {\n",
       "        vertical-align: middle;\n",
       "    }\n",
       "\n",
       "    .dataframe tbody tr th {\n",
       "        vertical-align: top;\n",
       "    }\n",
       "\n",
       "    .dataframe thead th {\n",
       "        text-align: right;\n",
       "    }\n",
       "</style>\n",
       "<table border=\"1\" class=\"dataframe\">\n",
       "  <thead>\n",
       "    <tr style=\"text-align: right;\">\n",
       "      <th>시군구명</th>\n",
       "      <th>강남구</th>\n",
       "      <th>강동구</th>\n",
       "      <th>강북구</th>\n",
       "      <th>강서구</th>\n",
       "      <th>관악구</th>\n",
       "      <th>광진구</th>\n",
       "      <th>구로구</th>\n",
       "      <th>금천구</th>\n",
       "      <th>노원구</th>\n",
       "      <th>도봉구</th>\n",
       "      <th>동대문구</th>\n",
       "      <th>동작구</th>\n",
       "      <th>마포구</th>\n",
       "      <th>서대문구</th>\n",
       "      <th>서초구</th>\n",
       "    </tr>\n",
       "    <tr>\n",
       "      <th>상권_구분_코드_명</th>\n",
       "      <th></th>\n",
       "      <th></th>\n",
       "      <th></th>\n",
       "      <th></th>\n",
       "      <th></th>\n",
       "      <th></th>\n",
       "      <th></th>\n",
       "      <th></th>\n",
       "      <th></th>\n",
       "      <th></th>\n",
       "      <th></th>\n",
       "      <th></th>\n",
       "      <th></th>\n",
       "      <th></th>\n",
       "      <th></th>\n",
       "    </tr>\n",
       "  </thead>\n",
       "  <tbody>\n",
       "    <tr>\n",
       "      <th>골목상권</th>\n",
       "      <td>3</td>\n",
       "      <td>17</td>\n",
       "      <td>10</td>\n",
       "      <td>16</td>\n",
       "      <td>17</td>\n",
       "      <td>16</td>\n",
       "      <td>9</td>\n",
       "      <td>3</td>\n",
       "      <td>6</td>\n",
       "      <td>7</td>\n",
       "      <td>11</td>\n",
       "      <td>8</td>\n",
       "      <td>7</td>\n",
       "      <td>6</td>\n",
       "      <td>3</td>\n",
       "    </tr>\n",
       "    <tr>\n",
       "      <th>관광특구</th>\n",
       "      <td>0</td>\n",
       "      <td>0</td>\n",
       "      <td>0</td>\n",
       "      <td>0</td>\n",
       "      <td>0</td>\n",
       "      <td>0</td>\n",
       "      <td>0</td>\n",
       "      <td>0</td>\n",
       "      <td>0</td>\n",
       "      <td>0</td>\n",
       "      <td>0</td>\n",
       "      <td>0</td>\n",
       "      <td>0</td>\n",
       "      <td>0</td>\n",
       "      <td>0</td>\n",
       "    </tr>\n",
       "    <tr>\n",
       "      <th>발달상권</th>\n",
       "      <td>21</td>\n",
       "      <td>4</td>\n",
       "      <td>3</td>\n",
       "      <td>3</td>\n",
       "      <td>2</td>\n",
       "      <td>6</td>\n",
       "      <td>4</td>\n",
       "      <td>2</td>\n",
       "      <td>1</td>\n",
       "      <td>0</td>\n",
       "      <td>3</td>\n",
       "      <td>3</td>\n",
       "      <td>5</td>\n",
       "      <td>3</td>\n",
       "      <td>13</td>\n",
       "    </tr>\n",
       "    <tr>\n",
       "      <th>전통시장</th>\n",
       "      <td>0</td>\n",
       "      <td>0</td>\n",
       "      <td>0</td>\n",
       "      <td>0</td>\n",
       "      <td>0</td>\n",
       "      <td>0</td>\n",
       "      <td>0</td>\n",
       "      <td>0</td>\n",
       "      <td>0</td>\n",
       "      <td>1</td>\n",
       "      <td>1</td>\n",
       "      <td>0</td>\n",
       "      <td>2</td>\n",
       "      <td>0</td>\n",
       "      <td>0</td>\n",
       "    </tr>\n",
       "  </tbody>\n",
       "</table>\n",
       "</div>"
      ],
      "text/plain": [
       "시군구명        강남구  강동구  강북구  강서구  관악구  광진구  구로구  금천구  노원구  도봉구  동대문구  동작구  마포구  \\\n",
       "상권_구분_코드_명                                                                     \n",
       "골목상권          3   17   10   16   17   16    9    3    6    7    11    8    7   \n",
       "관광특구          0    0    0    0    0    0    0    0    0    0     0    0    0   \n",
       "발달상권         21    4    3    3    2    6    4    2    1    0     3    3    5   \n",
       "전통시장          0    0    0    0    0    0    0    0    0    1     1    0    2   \n",
       "\n",
       "시군구명        서대문구  서초구  \n",
       "상권_구분_코드_명             \n",
       "골목상권           6    3  \n",
       "관광특구           0    0  \n",
       "발달상권           3   13  \n",
       "전통시장           0    0  "
      ]
     },
     "metadata": {},
     "output_type": "display_data"
    },
    {
     "ename": "ModuleNotFoundError",
     "evalue": "No module named 'openpyxl'",
     "output_type": "error",
     "traceback": [
      "\u001b[31m---------------------------------------------------------------------------\u001b[39m",
      "\u001b[31mModuleNotFoundError\u001b[39m                       Traceback (most recent call last)",
      "\u001b[36mCell\u001b[39m\u001b[36m \u001b[39m\u001b[32mIn[109]\u001b[39m\u001b[32m, line 9\u001b[39m\n\u001b[32m      7\u001b[39m \u001b[38;5;66;03m# ── ② 결과 미리보기 & 저장 ────────────────────────────────────\u001b[39;00m\n\u001b[32m      8\u001b[39m display(pivot.iloc[:, :\u001b[32m15\u001b[39m])          \u001b[38;5;66;03m# 열이 많으면 일부만 보기\u001b[39;00m\n\u001b[32m----> \u001b[39m\u001b[32m9\u001b[39m \u001b[43mpivot\u001b[49m\u001b[43m.\u001b[49m\u001b[43mto_excel\u001b[49m\u001b[43m(\u001b[49m\u001b[33;43m\"\u001b[39;49m\u001b[33;43mreports/active_zones_cross_tab.xlsx\u001b[39;49m\u001b[33;43m\"\u001b[39;49m\u001b[43m)\u001b[49m\n\u001b[32m     10\u001b[39m \u001b[38;5;28mprint\u001b[39m(\u001b[33m\"\u001b[39m\u001b[33m✔ 교차표 저장: reports/active_zones_cross_tab.xlsx\u001b[39m\u001b[33m\"\u001b[39m)\n",
      "\u001b[36mFile \u001b[39m\u001b[32m/opt/homebrew/Caskroom/miniconda/base/envs/gopchang-locator/lib/python3.11/site-packages/pandas/util/_decorators.py:333\u001b[39m, in \u001b[36mdeprecate_nonkeyword_arguments.<locals>.decorate.<locals>.wrapper\u001b[39m\u001b[34m(*args, **kwargs)\u001b[39m\n\u001b[32m    327\u001b[39m \u001b[38;5;28;01mif\u001b[39;00m \u001b[38;5;28mlen\u001b[39m(args) > num_allow_args:\n\u001b[32m    328\u001b[39m     warnings.warn(\n\u001b[32m    329\u001b[39m         msg.format(arguments=_format_argument_list(allow_args)),\n\u001b[32m    330\u001b[39m         \u001b[38;5;167;01mFutureWarning\u001b[39;00m,\n\u001b[32m    331\u001b[39m         stacklevel=find_stack_level(),\n\u001b[32m    332\u001b[39m     )\n\u001b[32m--> \u001b[39m\u001b[32m333\u001b[39m \u001b[38;5;28;01mreturn\u001b[39;00m \u001b[43mfunc\u001b[49m\u001b[43m(\u001b[49m\u001b[43m*\u001b[49m\u001b[43margs\u001b[49m\u001b[43m,\u001b[49m\u001b[43m \u001b[49m\u001b[43m*\u001b[49m\u001b[43m*\u001b[49m\u001b[43mkwargs\u001b[49m\u001b[43m)\u001b[49m\n",
      "\u001b[36mFile \u001b[39m\u001b[32m/opt/homebrew/Caskroom/miniconda/base/envs/gopchang-locator/lib/python3.11/site-packages/pandas/core/generic.py:2436\u001b[39m, in \u001b[36mNDFrame.to_excel\u001b[39m\u001b[34m(self, excel_writer, sheet_name, na_rep, float_format, columns, header, index, index_label, startrow, startcol, engine, merge_cells, inf_rep, freeze_panes, storage_options, engine_kwargs)\u001b[39m\n\u001b[32m   2423\u001b[39m \u001b[38;5;28;01mfrom\u001b[39;00m\u001b[38;5;250m \u001b[39m\u001b[34;01mpandas\u001b[39;00m\u001b[34;01m.\u001b[39;00m\u001b[34;01mio\u001b[39;00m\u001b[34;01m.\u001b[39;00m\u001b[34;01mformats\u001b[39;00m\u001b[34;01m.\u001b[39;00m\u001b[34;01mexcel\u001b[39;00m\u001b[38;5;250m \u001b[39m\u001b[38;5;28;01mimport\u001b[39;00m ExcelFormatter\n\u001b[32m   2425\u001b[39m formatter = ExcelFormatter(\n\u001b[32m   2426\u001b[39m     df,\n\u001b[32m   2427\u001b[39m     na_rep=na_rep,\n\u001b[32m   (...)\u001b[39m\u001b[32m   2434\u001b[39m     inf_rep=inf_rep,\n\u001b[32m   2435\u001b[39m )\n\u001b[32m-> \u001b[39m\u001b[32m2436\u001b[39m \u001b[43mformatter\u001b[49m\u001b[43m.\u001b[49m\u001b[43mwrite\u001b[49m\u001b[43m(\u001b[49m\n\u001b[32m   2437\u001b[39m \u001b[43m    \u001b[49m\u001b[43mexcel_writer\u001b[49m\u001b[43m,\u001b[49m\n\u001b[32m   2438\u001b[39m \u001b[43m    \u001b[49m\u001b[43msheet_name\u001b[49m\u001b[43m=\u001b[49m\u001b[43msheet_name\u001b[49m\u001b[43m,\u001b[49m\n\u001b[32m   2439\u001b[39m \u001b[43m    \u001b[49m\u001b[43mstartrow\u001b[49m\u001b[43m=\u001b[49m\u001b[43mstartrow\u001b[49m\u001b[43m,\u001b[49m\n\u001b[32m   2440\u001b[39m \u001b[43m    \u001b[49m\u001b[43mstartcol\u001b[49m\u001b[43m=\u001b[49m\u001b[43mstartcol\u001b[49m\u001b[43m,\u001b[49m\n\u001b[32m   2441\u001b[39m \u001b[43m    \u001b[49m\u001b[43mfreeze_panes\u001b[49m\u001b[43m=\u001b[49m\u001b[43mfreeze_panes\u001b[49m\u001b[43m,\u001b[49m\n\u001b[32m   2442\u001b[39m \u001b[43m    \u001b[49m\u001b[43mengine\u001b[49m\u001b[43m=\u001b[49m\u001b[43mengine\u001b[49m\u001b[43m,\u001b[49m\n\u001b[32m   2443\u001b[39m \u001b[43m    \u001b[49m\u001b[43mstorage_options\u001b[49m\u001b[43m=\u001b[49m\u001b[43mstorage_options\u001b[49m\u001b[43m,\u001b[49m\n\u001b[32m   2444\u001b[39m \u001b[43m    \u001b[49m\u001b[43mengine_kwargs\u001b[49m\u001b[43m=\u001b[49m\u001b[43mengine_kwargs\u001b[49m\u001b[43m,\u001b[49m\n\u001b[32m   2445\u001b[39m \u001b[43m\u001b[49m\u001b[43m)\u001b[49m\n",
      "\u001b[36mFile \u001b[39m\u001b[32m/opt/homebrew/Caskroom/miniconda/base/envs/gopchang-locator/lib/python3.11/site-packages/pandas/io/formats/excel.py:943\u001b[39m, in \u001b[36mExcelFormatter.write\u001b[39m\u001b[34m(self, writer, sheet_name, startrow, startcol, freeze_panes, engine, storage_options, engine_kwargs)\u001b[39m\n\u001b[32m    941\u001b[39m     need_save = \u001b[38;5;28;01mFalse\u001b[39;00m\n\u001b[32m    942\u001b[39m \u001b[38;5;28;01melse\u001b[39;00m:\n\u001b[32m--> \u001b[39m\u001b[32m943\u001b[39m     writer = \u001b[43mExcelWriter\u001b[49m\u001b[43m(\u001b[49m\n\u001b[32m    944\u001b[39m \u001b[43m        \u001b[49m\u001b[43mwriter\u001b[49m\u001b[43m,\u001b[49m\n\u001b[32m    945\u001b[39m \u001b[43m        \u001b[49m\u001b[43mengine\u001b[49m\u001b[43m=\u001b[49m\u001b[43mengine\u001b[49m\u001b[43m,\u001b[49m\n\u001b[32m    946\u001b[39m \u001b[43m        \u001b[49m\u001b[43mstorage_options\u001b[49m\u001b[43m=\u001b[49m\u001b[43mstorage_options\u001b[49m\u001b[43m,\u001b[49m\n\u001b[32m    947\u001b[39m \u001b[43m        \u001b[49m\u001b[43mengine_kwargs\u001b[49m\u001b[43m=\u001b[49m\u001b[43mengine_kwargs\u001b[49m\u001b[43m,\u001b[49m\n\u001b[32m    948\u001b[39m \u001b[43m    \u001b[49m\u001b[43m)\u001b[49m\n\u001b[32m    949\u001b[39m     need_save = \u001b[38;5;28;01mTrue\u001b[39;00m\n\u001b[32m    951\u001b[39m \u001b[38;5;28;01mtry\u001b[39;00m:\n",
      "\u001b[36mFile \u001b[39m\u001b[32m/opt/homebrew/Caskroom/miniconda/base/envs/gopchang-locator/lib/python3.11/site-packages/pandas/io/excel/_openpyxl.py:57\u001b[39m, in \u001b[36mOpenpyxlWriter.__init__\u001b[39m\u001b[34m(self, path, engine, date_format, datetime_format, mode, storage_options, if_sheet_exists, engine_kwargs, **kwargs)\u001b[39m\n\u001b[32m     44\u001b[39m \u001b[38;5;28;01mdef\u001b[39;00m\u001b[38;5;250m \u001b[39m\u001b[34m__init__\u001b[39m(\n\u001b[32m     45\u001b[39m     \u001b[38;5;28mself\u001b[39m,\n\u001b[32m     46\u001b[39m     path: FilePath | WriteExcelBuffer | ExcelWriter,\n\u001b[32m   (...)\u001b[39m\u001b[32m     55\u001b[39m ) -> \u001b[38;5;28;01mNone\u001b[39;00m:\n\u001b[32m     56\u001b[39m     \u001b[38;5;66;03m# Use the openpyxl module as the Excel writer.\u001b[39;00m\n\u001b[32m---> \u001b[39m\u001b[32m57\u001b[39m     \u001b[38;5;28;01mfrom\u001b[39;00m\u001b[38;5;250m \u001b[39m\u001b[34;01mopenpyxl\u001b[39;00m\u001b[34;01m.\u001b[39;00m\u001b[34;01mworkbook\u001b[39;00m\u001b[38;5;250m \u001b[39m\u001b[38;5;28;01mimport\u001b[39;00m Workbook\n\u001b[32m     59\u001b[39m     engine_kwargs = combine_kwargs(engine_kwargs, kwargs)\n\u001b[32m     61\u001b[39m     \u001b[38;5;28msuper\u001b[39m().\u001b[34m__init__\u001b[39m(\n\u001b[32m     62\u001b[39m         path,\n\u001b[32m     63\u001b[39m         mode=mode,\n\u001b[32m   (...)\u001b[39m\u001b[32m     66\u001b[39m         engine_kwargs=engine_kwargs,\n\u001b[32m     67\u001b[39m     )\n",
      "\u001b[31mModuleNotFoundError\u001b[39m: No module named 'openpyxl'"
     ]
    }
   ],
   "source": [
    "# ── ① 교차표(피벗) 계산 ───────────────────────────────────────\n",
    "pivot = (df.groupby([\"상권_구분_코드_명\",\"시군구명\"])[\"is_active_25\"]\n",
    "           .sum()                    # 자치구·유형별 활발 상권 수\n",
    "           .unstack(fill_value=0)    # 행=상권유형, 열=시군구\n",
    "           .sort_index())            # 유형 알파벳순 정렬\n",
    "\n",
    "# ── ② 결과 미리보기 & 저장 ────────────────────────────────────\n",
    "display(pivot.iloc[:, :15])          # 열이 많으면 일부만 보기\n",
    "pivot.to_excel(\"reports/active_zones_cross_tab.xlsx\")\n",
    "print(\"✔ 교차표 저장: reports/active_zones_cross_tab.xlsx\")\n"
   ]
  },
  {
   "cell_type": "code",
   "execution_count": null,
   "id": "73e9a404",
   "metadata": {},
   "outputs": [
    {
     "name": "stdout",
     "output_type": "stream",
     "text": [
      "['data/raw/서울시 상권분석서비스(추정매출-상권).csv',\n",
      " 'data/raw/서울시 상권분석서비스(길단위인구-상권).csv',\n",
      " 'data/raw/서울시 상권분석서비스(상주인구-상권).csv']\n"
     ]
    }
   ],
   "source": [
    "import glob, pprint\n",
    "pprint.pprint(glob.glob(\"data/raw/*.csv\"))\n"
   ]
  },
  {
   "cell_type": "code",
   "execution_count": null,
   "id": "b892ce68",
   "metadata": {},
   "outputs": [],
   "source": [
    "agg = pd.read_csv(\"data/processed/merged_annual_2024.csv\",\n",
    "                  encoding=\"utf-8-sig\")\n",
    "# → Step 2 (퍼센타일) · Step 3 (Z-score)부터 실행\n"
   ]
  },
  {
   "cell_type": "code",
   "execution_count": null,
   "id": "9ae892b4",
   "metadata": {},
   "outputs": [],
   "source": [
    "agg = pd.read_csv(\"data/processed/merged_annual_2024.csv\", encoding=\"utf-8-sig\")\n",
    "# 이후 Step 2, 3 그대로 실행\n"
   ]
  },
  {
   "cell_type": "code",
   "execution_count": null,
   "id": "124d0612",
   "metadata": {},
   "outputs": [
    {
     "name": "stdout",
     "output_type": "stream",
     "text": [
      "🥇 활발(75%)  353곳\n",
      "🏆 극히 활발(90%) 124곳\n",
      "✅ 로그·Z-score 완료 → 저장: (1571, 19)\n"
     ]
    }
   ],
   "source": [
    "# ▣ STEP 2 ─ 퍼센타일(75/90) & 플래그 -----------------------------------------\n",
    "metrics = [\"resident_pop_2024\", \"floating_pop_2024\", \"estimated_sales_2024\"]\n",
    "q75 = {m: agg[m].quantile(0.75) for m in metrics}\n",
    "q90 = {m: agg[m].quantile(0.90) for m in metrics}\n",
    "\n",
    "for m in metrics:\n",
    "    agg[f\"{m}_high25\"] = agg[m] >= q75[m]\n",
    "    agg[f\"{m}_high10\"] = agg[m] >= q90[m]\n",
    "\n",
    "agg[\"is_active_25\"] = agg[[f\"{m}_high25\" for m in metrics]].sum(axis=1) >= 2\n",
    "agg[\"is_active_10\"] = agg[[f\"{m}_high10\" for m in metrics]].sum(axis=1) >= 2\n",
    "\n",
    "print(f\"🥇 활발(75%)  {agg['is_active_25'].sum()}곳\")\n",
    "print(f\"🏆 극히 활발(90%) {agg['is_active_10'].sum()}곳\")\n",
    "\n",
    "# ▣ STEP 3 ─ 로그 변환 + Z-score 통합 ----------------------------------------\n",
    "for m in metrics:\n",
    "    agg[f\"log_{m}\"] = np.log1p(agg[m])                # log(1+x)\n",
    "    agg[f\"z_{m}\"]   = (agg[f\"log_{m}\"] - agg[f\"log_{m}\"].mean()) / agg[f\"log_{m}\"].std()\n",
    "\n",
    "agg[\"score\"] = agg[[f\"z_{m}\" for m in metrics]].mean(axis=1)\n",
    "\n",
    "agg.to_csv(f\"{PROC_DIR}/merged_annual_2024_with_flags.csv\",\n",
    "           index=False, encoding=\"utf-8-sig\")\n",
    "print(\"✅ 로그·Z-score 완료 → 저장:\", agg.shape)"
   ]
  },
  {
   "cell_type": "code",
   "execution_count": null,
   "id": "55ca8a4f",
   "metadata": {},
   "outputs": [
    {
     "data": {
      "image/png": "[encoded data removed]",
      "text/plain": [
       "<Figure size 1000x400 with 2 Axes>"
      ]
     },
     "metadata": {},
     "output_type": "display_data"
    }
   ],
   "source": [
    "import pandas as pd, numpy as np, matplotlib.pyplot as plt, seaborn as sns\n",
    "\n",
    "# ── 0) 활발·극히 활발 플래그가 붙은 연-간 DF 로드 ───────────────\n",
    "agg = pd.read_csv(\"data/processed/merged_annual_2024_with_flags.csv\",\n",
    "                  encoding=\"utf-8-sig\")\n",
    "\n",
    "# ── 1) 막대차트용 카운트 ─────────────────────────────────────\n",
    "n_active  = agg[\"is_active_25\"].sum()   # 353\n",
    "n_ultra   = agg[\"is_active_10\"].sum()   # 124\n",
    "\n",
    "# ── 2) 히스토그램용 지표(예: 추정매출) 로그 변환 ───────────────\n",
    "log_sales = np.log1p(agg[\"estimated_sales_2024\"])   # log(1+x)\n",
    "\n",
    "# ── 3) 플롯 -------------------------------------------------\n",
    "fig, ax = plt.subplots(1, 2, figsize=(10, 4))\n",
    "\n",
    "# ① 막대차트\n",
    "ax[0].bar([\"활발(75%)\", \"극히 활발(90%)\"], [n_active, n_ultra])\n",
    "ax[0].set_ylabel(\"상권 수(개)\")\n",
    "ax[0].set_title(\"퍼센타일 기준 활발 상권 수\")\n",
    "\n",
    "# ② 로그-히스토그램\n",
    "ax[1].hist(log_sales, bins=30)\n",
    "ax[1].set_xlabel(\"log(추정매출+1)\")\n",
    "ax[1].set_ylabel(\"상권 수\")\n",
    "ax[1].set_title(\"추정매출 분포 (로그 스케일)\")\n",
    "\n",
    "plt.tight_layout()\n",
    "plt.show()\n"
   ]
  },
  {
   "cell_type": "code",
   "execution_count": null,
   "id": "cc452fe8",
   "metadata": {},
   "outputs": [],
   "source": [
    "meta = (gdf[[\"상권_코드\",\"상권_코드_명\",\n",
    "             \"시군구명\",\"행정동명\",\"lat\",\"lon\"]]\n",
    "        .copy())                       # ← 여기서 명시적 복사\n",
    "\n",
    "meta[\"상권_코드\"] = meta[\"상권_코드\"].astype(int)\n"
   ]
  },
  {
   "cell_type": "code",
   "execution_count": null,
   "id": "52ab87c0",
   "metadata": {},
   "outputs": [
    {
     "name": "stdout",
     "output_type": "stream",
     "text": [
      "['상권_코드_명', '시군구명', '행정동명']\n"
     ]
    }
   ],
   "source": [
    "required = [\"상권_코드_명\", \"시군구명\", \"행정동명\", \"lat\", \"lon\"]\n",
    "print([c for c in required if c not in df.columns])   # → 빈 리스트([])면 OK\n"
   ]
  },
  {
   "cell_type": "code",
   "execution_count": null,
   "id": "7cddf72f",
   "metadata": {},
   "outputs": [
    {
     "name": "stdout",
     "output_type": "stream",
     "text": [
      "        상권_코드                 상권_코드_명 시군구명  행정동명\n",
      "1     3001492  명동 남대문 북창동 다동 무교동 관광특구   중구   소공동\n",
      "638   3110661               강서새말어린이공원  강서구  화곡6동\n",
      "1175  3120131                 가산디지털단지  금천구   가산동\n",
      "1232  3120189                     강남역  서초구  서초2동\n"
     ]
    }
   ],
   "source": [
    "import pandas as pd, geopandas as gpd, glob\n",
    "\n",
    "# ── 1) SHP에서 코드·이름·자치구·행정동만 추출 ───────────────────\n",
    "shp = glob.glob(\"data/raw/상권경계/*.shp\")[0]\n",
    "gdf = gpd.read_file(shp, encoding=\"utf-8\").rename(columns={\n",
    "    \"TRDAR_CD\"  : \"상권_코드\",\n",
    "    \"TRDAR_CD_N\": \"상권_코드_명\",\n",
    "    \"SIGNGU_CD_\": \"시군구명\",\n",
    "    \"ADSTRD_CD_\": \"행정동명\"\n",
    "})\n",
    "meta_name = gdf[[\"상권_코드\",\"상권_코드_명\",\"시군구명\",\"행정동명\"]].copy()\n",
    "meta_name[\"상권_코드\"] = meta_name[\"상권_코드\"].astype(int)\n",
    "\n",
    "# ── 2) 연간 DF 로드 & dtype 맞춘 뒤 병합 ─────────────────────────\n",
    "df = pd.read_csv(\"data/processed/merged_annual_2024_with_flags.csv\",\n",
    "                 encoding=\"utf-8-sig\")\n",
    "df[\"상권_코드\"] = df[\"상권_코드\"].astype(int)\n",
    "\n",
    "df = df.merge(meta_name, on=\"상권_코드\", how=\"left\")\n",
    "\n",
    "# ── 3) _x/_y 정리 (혹시 남아 있으면) ───────────────────────────\n",
    "for base in [\"상권_코드_명\",\"시군구명\",\"행정동명\"]:\n",
    "    cand = [c for c in df.columns if c.startswith(base+\"_\")]\n",
    "    if cand and base not in df:\n",
    "        df[base] = df[cand[0]]\n",
    "    df.drop(columns=cand, inplace=True, errors=\"ignore\")\n",
    "\n",
    "# ── 4) 확인 ────────────────────────────────────────────────────\n",
    "print(df.loc[df[\"상권_코드\"].isin([3001492,3120189,3110661,3120131]),\n",
    "             [\"상권_코드\",\"상권_코드_명\",\"시군구명\",\"행정동명\"]].head())\n"
   ]
  },
  {
   "cell_type": "code",
   "execution_count": null,
   "id": "8cd2fa5d",
   "metadata": {},
   "outputs": [
    {
     "name": "stdout",
     "output_type": "stream",
     "text": [
      "✓ 좌표 재병합 완료\n",
      "✔ lat / lon 준비 끝 : [1571, 1571] 개 좌표\n"
     ]
    }
   ],
   "source": [
    "import pandas as pd, geopandas as gpd, glob, numpy as np\n",
    "\n",
    "# 0) 연-간 DF 로드 ──────────────────────────────────────────────\n",
    "df = pd.read_csv(\"data/processed/merged_annual_2024_with_flags.csv\",\n",
    "                 encoding=\"utf-8-sig\")\n",
    "\n",
    "# 1) lat/lon 없으면 SHP → 중심점 좌표 추출 후 병합 ─────────────\n",
    "if {\"lat\", \"lon\"}.issubset(df.columns) is False:\n",
    "    shp = glob.glob(\"data/raw/상권경계/*.shp\")[0]\n",
    "    gdf = gpd.read_file(shp, encoding=\"utf-8\")\n",
    "\n",
    "    # 중심점 WGS84 계산\n",
    "    cent = gdf.to_crs(5179).geometry.centroid.to_crs(4326)\n",
    "    gdf = gdf.assign(lon=cent.x, lat=cent.y)\n",
    "\n",
    "    coord = (gdf[[\"TRDAR_CD\", \"lon\", \"lat\"]]\n",
    "             .rename(columns={\"TRDAR_CD\": \"상권_코드\"})\n",
    "             .astype({\"상권_코드\": int}))\n",
    "    df = df.merge(coord, on=\"상권_코드\", how=\"left\")\n",
    "    print(\"✓ 좌표 재병합 완료\")\n",
    "\n",
    "# 2) _x / _y 접미사 정리 ───────────────────────────────────────\n",
    "for base in [\"lat\", \"lon\"]:\n",
    "    cand = [c for c in df.columns if c.startswith(base+\"_\")]\n",
    "    if cand and base not in df.columns:\n",
    "        df[base] = df[cand[0]]\n",
    "    df.drop(columns=cand, inplace=True, errors=\"ignore\")\n",
    "\n",
    "missing = [c for c in [\"lat\", \"lon\"] if c not in df.columns]\n",
    "if missing:\n",
    "    raise KeyError(f\"❌ 아직 {missing} 컬럼이 없습니다. SHP 경로·컬럼명을 다시 확인하세요.\")\n",
    "\n",
    "print(\"✔ lat / lon 준비 끝 :\", df[[\"lat\",\"lon\"]].notna().sum().tolist(), \"개 좌표\")\n",
    "\n",
    "# 3) 여기서 Folium 코드 바로 이어서 실행 가능\n"
   ]
  },
  {
   "cell_type": "code",
   "execution_count": null,
   "id": "a633f114",
   "metadata": {},
   "outputs": [
    {
     "name": "stdout",
     "output_type": "stream",
     "text": [
      "['TRDAR_SE_C', 'TRDAR_SE_1', 'TRDAR_CD', 'TRDAR_CD_N']\n",
      "        상권_코드                 상권_코드_명\n",
      "1     3001492  명동 남대문 북창동 다동 무교동 관광특구\n",
      "638   3110661               강서새말어린이공원\n",
      "1175  3120131                 가산디지털단지\n",
      "1232  3120189                     강남역\n"
     ]
    }
   ],
   "source": [
    "import geopandas as gpd, glob, pandas as pd\n",
    "\n",
    "# 1. SHP 읽어 상권 코드·이름 추출\n",
    "shp = glob.glob(\"data/raw/상권경계/*.shp\")[0]\n",
    "gdf = gpd.read_file(shp, encoding=\"utf-8\")\n",
    "\n",
    "#   ▶ 실제 컬럼명 확인\n",
    "print([c for c in gdf.columns if \"TRDAR\" in c])\n",
    "# 예) ['TRDAR_CD', 'TRDAR_CD_N']\n",
    "\n",
    "name_map = (gdf[[\"TRDAR_CD\", \"TRDAR_CD_N\"]]\n",
    "            .rename(columns={\"TRDAR_CD\":\"상권_코드\",\n",
    "                             \"TRDAR_CD_N\":\"상권_코드_명\"})\n",
    "            .astype({\"상권_코드\": int})\n",
    "            .drop_duplicates(\"상권_코드\"))\n",
    "\n",
    "# 2. 연간 DF 에 이름만 병합\n",
    "df = df.merge(name_map, on=\"상권_코드\", how=\"left\")\n",
    "\n",
    "# 3. 확인\n",
    "print(df.loc[df[\"상권_코드\"].isin([3001492,3120189,3110661,3120131]),\n",
    "             [\"상권_코드\",\"상권_코드_명\"]])\n"
   ]
  },
  {
   "cell_type": "code",
   "execution_count": null,
   "id": "77e5f4c1",
   "metadata": {},
   "outputs": [],
   "source": [
    "gdf = gpd.read_file(shp, encoding=\"utf-8\")\n",
    "\n",
    "cent = gdf.to_crs(5179).geometry.centroid.to_crs(4326)\n",
    "gdf = gdf.assign(lon=cent.x, lat=cent.y)\n",
    "\n",
    "meta_full = (gdf.rename(columns={\n",
    "                    \"TRDAR_CD\"  : \"상권_코드\",\n",
    "                    \"TRDAR_CD_N\": \"상권_코드_명\",\n",
    "                    \"SIGNGU_CD_\": \"시군구명\",\n",
    "                    \"ADSTRD_CD_\": \"행정동명\"})\n",
    "               [[\"상권_코드\",\"상권_코드_명\",\"시군구명\",\"행정동명\",\"lat\",\"lon\"]]\n",
    "               .astype({\"상권_코드\": int}))\n",
    "\n",
    "df = df.merge(meta_full, on=\"상권_코드\", how=\"left\")\n"
   ]
  },
  {
   "cell_type": "code",
   "execution_count": null,
   "id": "15765702",
   "metadata": {},
   "outputs": [
    {
     "name": "stdout",
     "output_type": "stream",
     "text": [
      "✓ 좌표·이름까지 포함한 파일 저장: data/processed/merged_annual_2024_full.csv\n",
      "✅ Folium 지도 생성 완료: reports/figures/active_zones_map.html\n"
     ]
    }
   ],
   "source": [
    "import pandas as pd, geopandas as gpd, glob, os, folium, numpy as np\n",
    "\n",
    "# ───────────────────────────────────────────────────────────────\n",
    "# ① 좌표·상권명 병합 → 새 CSV 저장\n",
    "# ───────────────────────────────────────────────────────────────\n",
    "df = pd.read_csv(\n",
    "    \"data/processed/merged_annual_2024_with_flags.csv\",\n",
    "    encoding=\"utf-8-sig\"\n",
    ").astype({\"상권_코드\": int})\n",
    "\n",
    "# (1) SHP 로드해서 메타 만들기\n",
    "shp = glob.glob(\"data/raw/상권경계/*.shp\")[0]\n",
    "gdf = gpd.read_file(shp, encoding=\"utf-8\")           # 컬럼: TRDAR_CD / TRDAR_CD_N …\n",
    "\n",
    "cent = gdf.to_crs(5179).geometry.centroid.to_crs(4326)\n",
    "gdf = gdf.assign(lon=cent.x, lat=cent.y)\n",
    "\n",
    "meta = (\n",
    "    gdf.rename(columns={\n",
    "        \"TRDAR_CD\"  : \"상권_코드\",\n",
    "        \"TRDAR_CD_N\": \"상권_코드_명\",\n",
    "        \"SIGNGU_CD_\" : \"시군구명\",\n",
    "        \"ADSTRD_CD_\" : \"행정동명\"\n",
    "    })\n",
    "    [[\"상권_코드\", \"상권_코드_명\", \"시군구명\", \"행정동명\", \"lat\", \"lon\"]]\n",
    "    .astype({\"상권_코드\": int})\n",
    "    .drop_duplicates(\"상권_코드\")\n",
    ")\n",
    "\n",
    "# (2) 병합\n",
    "df_full = df.merge(meta, on=\"상권_코드\", how=\"left\")\n",
    "\n",
    "# (3) 새 파일로 저장해 두기\n",
    "full_path = \"data/processed/merged_annual_2024_full.csv\"\n",
    "os.makedirs(os.path.dirname(full_path), exist_ok=True)\n",
    "df_full.to_csv(full_path, index=False, encoding=\"utf-8-sig\")\n",
    "print(\"✓ 좌표·이름까지 포함한 파일 저장:\", full_path)\n",
    "\n",
    "# ───────────────────────────────────────────────────────────────\n",
    "# ② Folium 지도 (네 후보 상권) 생성\n",
    "# ───────────────────────────────────────────────────────────────\n",
    "codes = [3001492, 3120189, 3110661, 3120131]   # 명동·강남역·구디·가디\n",
    "cand  = df_full[df_full[\"상권_코드\"].isin(codes)].copy()\n",
    "\n",
    "m = folium.Map(location=[37.5665, 126.9780], zoom_start=11,\n",
    "               tiles=\"CartoDB positron\")\n",
    "colors = [\"red\", \"blue\", \"green\", \"purple\"]\n",
    "\n",
    "for _, r in cand.iterrows():\n",
    "    popup = (f\"<b>{r['상권_코드_명']}</b><br>\"\n",
    "             f\"{r['시군구명']} {r['행정동명']}<br>\"\n",
    "             f\"상주 {r['resident_pop_2024']:,}명<br>\"\n",
    "             f\"유동 {r['floating_pop_2024']:,}명<br>\"\n",
    "             f\"매출 {r['estimated_sales_2024']:,}원\")\n",
    "    folium.CircleMarker(\n",
    "        [r[\"lat\"], r[\"lon\"]], radius=10,\n",
    "        color=colors.pop(0), fill=True, fill_opacity=0.9,\n",
    "        popup=folium.Popup(popup, max_width=250)\n",
    "    ).add_to(m)\n",
    "\n",
    "out = \"reports/figures/active_zones_map.html\"\n",
    "os.makedirs(os.path.dirname(out), exist_ok=True)\n",
    "m.save(out)\n",
    "print(\"✅ Folium 지도 생성 완료:\", out)\n"
   ]
  },
  {
   "cell_type": "code",
   "execution_count": null,
   "id": "dc5d8c62",
   "metadata": {},
   "outputs": [],
   "source": [
    "# ── 2. 이름·좌표 메타 준비 ──────────────────────────────────────────────\n",
    "shp = glob.glob(str(RAW_DIR / \"상권경계/*.shp\"))[0]\n",
    "meta = gpd.read_file(shp, encoding=\"utf-8\").rename(columns={\n",
    "        \"TRDAR_CD\"   : \"상권_코드\",\n",
    "        \"TRDAR_CD_N\" : \"상권_코드_명\",\n",
    "        \"SIGNGU_CD_NM\": \"시군구명\",      # 없을 수도 있음\n",
    "        \"ADSTRD_CD_NM\": \"행정동명\"       # 없을 수도 있음\n",
    "})\n",
    "\n",
    "# ── (★) 누락 컬럼 보강 ────────────────────────────────────────────────\n",
    "for col in [\"시군구명\", \"행정동명\"]:\n",
    "    if col not in meta.columns:\n",
    "        meta[col] = \"\"                  # 빈 문자열로 대체\n",
    "\n",
    "# 좌표 계산\n",
    "cent = meta.to_crs(5179).geometry.centroid.to_crs(4326)\n",
    "meta[\"lon\"], meta[\"lat\"] = cent.x, cent.y\n",
    "meta[\"상권_코드\"] = meta[\"상권_코드\"].astype(int)\n",
    "\n",
    "# 머지\n",
    "df = df.merge(meta[[\"상권_코드\",\"상권_코드_명\",\"시군구명\",\"행정동명\",\"lat\",\"lon\"]],\n",
    "              on=\"상권_코드\", how=\"left\")\n"
   ]
  },
  {
   "cell_type": "code",
   "execution_count": null,
   "id": "1ecf5f05",
   "metadata": {},
   "outputs": [],
   "source": [
    "# 0) SHP 로드 & 기본 컬럼 리네임\n",
    "meta = gpd.read_file(shp, encoding=\"utf-8\").rename(columns={\n",
    "    \"TRDAR_CD\"  : \"상권_코드\",\n",
    "    \"TRDAR_CD_N\": \"상권_코드_명\",\n",
    "    # 이 두 컬럼은 파일마다 없을 수 있으므로 일단 '있으면'만 리네임\n",
    "    \"SIGNGU_CD_NM\": \"시군구명\",\n",
    "    \"ADSTRD_CD_NM\": \"행정동명\"\n",
    "})\n",
    "\n",
    "# 1) 누락 컬럼을 **반드시 생성** (없는 경우 빈 문자열)\n",
    "for col in [\"시군구명\", \"행정동명\"]:\n",
    "    if col not in meta.columns:\n",
    "        meta[col] = \"\"\n",
    "\n",
    "# 2) 좌표 계산\n",
    "cent = meta.to_crs(5179).geometry.centroid.to_crs(4326)\n",
    "meta[\"lon\"], meta[\"lat\"] = cent.x, cent.y\n",
    "meta[\"상권_코드\"] = meta[\"상권_코드\"].astype(int)\n",
    "\n",
    "# 3) (★) 병합 직전에 ‘필요 컬럼 확보’ 확인 ─────────────\n",
    "need_cols = [\"상권_코드\",\"상권_코드_명\",\"시군구명\",\"행정동명\",\"lat\",\"lon\"]\n",
    "missing   = [c for c in need_cols if c not in meta.columns]\n",
    "if missing:                     # 이 경우는 사실 없어야 함\n",
    "    raise ValueError(f\"메타에 빠진 컬럼 → {missing}\")\n",
    "\n",
    "# 4) 연-간 집계 DF 에 붙이기\n",
    "df = df.merge(meta[need_cols], on=\"상권_코드\", how=\"left\")\n"
   ]
  },
  {
   "cell_type": "code",
   "execution_count": null,
   "id": "307041fa",
   "metadata": {},
   "outputs": [],
   "source": [
    "import geopandas as gpd, re, glob, pandas as pd\n",
    "\n",
    "shp = glob.glob(\"data/raw/상권경계/*.shp\")[0]\n",
    "gdf = gpd.read_file(shp, encoding=\"utf-8\")\n",
    "\n",
    "# ── ① 필수 2개는 고정 ──────────────────────────────\n",
    "meta = gdf.rename(columns={\"TRDAR_CD\":\"상권_코드\",\n",
    "                           \"TRDAR_CD_N\":\"상권_코드_명\"})[[\"상권_코드\",\"상권_코드_명\"]]\n",
    "\n",
    "# ── ② 시군구·행정동 컬럼을 “이름 패턴”으로 검색 ─────────────────\n",
    "def find_col(regex):\n",
    "    for c in gdf.columns:\n",
    "        if re.search(regex, c, re.I):\n",
    "            return c\n",
    "    return None          # 없으면 None\n",
    "\n",
    "gu_col   = find_col(r\"(signgu|시군구).*_(nm|명)?\")\n",
    "dong_col = find_col(r\"(adstrd|행정동).*_(nm|명)?\")\n",
    "\n",
    "for src, tgt in [(gu_col, \"시군구명\"), (dong_col, \"행정동명\")]:\n",
    "    meta[tgt] = gdf[src] if src else \"\"      # 없으면 빈 문자열\n",
    "\n",
    "# ── ③ 좌표 계산 ───────────────────────────────────\n",
    "cent = gdf.to_crs(5179).geometry.centroid.to_crs(4326)\n",
    "meta[\"lon\"], meta[\"lat\"] = cent.x, cent.y\n",
    "meta[\"상권_코드\"] = meta[\"상권_코드\"].astype(int)\n"
   ]
  },
  {
   "cell_type": "code",
   "execution_count": null,
   "id": "a45f56e2",
   "metadata": {},
   "outputs": [],
   "source": []
  }
 ],
 "metadata": {
  "kernelspec": {
   "display_name": "gopchang-locator",
   "language": "python",
   "name": "python3"
  },
  "language_info": {
   "codemirror_mode": {
    "name": "ipython",
    "version": 3
   },
   "file_extension": ".py",
   "mimetype": "text/x-python",
   "name": "python",
   "nbconvert_exporter": "python",
   "pygments_lexer": "ipython3",
   "version": "3.11.13"
  }
 },
 "nbformat": 4,
 "nbformat_minor": 5
}
