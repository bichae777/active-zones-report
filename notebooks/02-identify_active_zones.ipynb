{
 "cells": [
  {
   "cell_type": "markdown",
   "id": "489256f5",
   "metadata": {},
   "source": [
    "1. 임포트 & 데이터 로드"
   ]
  },
  {
   "cell_type": "code",
   "execution_count": 1,
   "id": "b013d900",
   "metadata": {},
   "outputs": [],
   "source": [
    "# 셀 1\n",
    "import os\n",
    "os.chdir(os.path.abspath(\"..\"))    # 프로젝트 루트로 이동\n",
    "import pandas as pd\n"
   ]
  },
  {
   "cell_type": "markdown",
   "id": "509032f5",
   "metadata": {},
   "source": [
    "2. 막대차트: 각 기준별 “활발 상권 수”"
   ]
  },
  {
   "cell_type": "code",
   "execution_count": 2,
   "id": "f05d1f4b",
   "metadata": {},
   "outputs": [
    {
     "data": {
      "application/vnd.microsoft.datawrangler.viewer.v0+json": {
       "columns": [
        {
         "name": "index",
         "rawType": "int64",
         "type": "integer"
        },
        {
         "name": "상권_코드",
         "rawType": "int64",
         "type": "integer"
        },
        {
         "name": "resident_pop_2024",
         "rawType": "int64",
         "type": "integer"
        },
        {
         "name": "floating_pop_2024",
         "rawType": "int64",
         "type": "integer"
        },
        {
         "name": "estimated_sales_2024",
         "rawType": "int64",
         "type": "integer"
        }
       ],
       "ref": "6b66ffa6-7e17-43be-ad97-4cf48285c814",
       "rows": [
        [
         "0",
         "3001491",
         "105840",
         "52278828",
         "451309752219"
        ],
        [
         "1",
         "3001492",
         "21240",
         "173404731",
         "2323168283547"
        ],
        [
         "2",
         "3001493",
         "54746",
         "84336760",
         "592441401861"
        ],
        [
         "3",
         "3001494",
         "38850",
         "217027839",
         "1233135489141"
        ],
        [
         "4",
         "3001495",
         "202576",
         "96379422",
         "1797325989068"
        ]
       ],
       "shape": {
        "columns": 4,
        "rows": 5
       }
      },
      "text/html": [
       "<div>\n",
       "<style scoped>\n",
       "    .dataframe tbody tr th:only-of-type {\n",
       "        vertical-align: middle;\n",
       "    }\n",
       "\n",
       "    .dataframe tbody tr th {\n",
       "        vertical-align: top;\n",
       "    }\n",
       "\n",
       "    .dataframe thead th {\n",
       "        text-align: right;\n",
       "    }\n",
       "</style>\n",
       "<table border=\"1\" class=\"dataframe\">\n",
       "  <thead>\n",
       "    <tr style=\"text-align: right;\">\n",
       "      <th></th>\n",
       "      <th>상권_코드</th>\n",
       "      <th>resident_pop_2024</th>\n",
       "      <th>floating_pop_2024</th>\n",
       "      <th>estimated_sales_2024</th>\n",
       "    </tr>\n",
       "  </thead>\n",
       "  <tbody>\n",
       "    <tr>\n",
       "      <th>0</th>\n",
       "      <td>3001491</td>\n",
       "      <td>105840</td>\n",
       "      <td>52278828</td>\n",
       "      <td>451309752219</td>\n",
       "    </tr>\n",
       "    <tr>\n",
       "      <th>1</th>\n",
       "      <td>3001492</td>\n",
       "      <td>21240</td>\n",
       "      <td>173404731</td>\n",
       "      <td>2323168283547</td>\n",
       "    </tr>\n",
       "    <tr>\n",
       "      <th>2</th>\n",
       "      <td>3001493</td>\n",
       "      <td>54746</td>\n",
       "      <td>84336760</td>\n",
       "      <td>592441401861</td>\n",
       "    </tr>\n",
       "    <tr>\n",
       "      <th>3</th>\n",
       "      <td>3001494</td>\n",
       "      <td>38850</td>\n",
       "      <td>217027839</td>\n",
       "      <td>1233135489141</td>\n",
       "    </tr>\n",
       "    <tr>\n",
       "      <th>4</th>\n",
       "      <td>3001495</td>\n",
       "      <td>202576</td>\n",
       "      <td>96379422</td>\n",
       "      <td>1797325989068</td>\n",
       "    </tr>\n",
       "  </tbody>\n",
       "</table>\n",
       "</div>"
      ],
      "text/plain": [
       "     상권_코드  resident_pop_2024  floating_pop_2024  estimated_sales_2024\n",
       "0  3001491             105840           52278828          451309752219\n",
       "1  3001492              21240          173404731         2323168283547\n",
       "2  3001493              54746           84336760          592441401861\n",
       "3  3001494              38850          217027839         1233135489141\n",
       "4  3001495             202576           96379422         1797325989068"
      ]
     },
     "execution_count": 2,
     "metadata": {},
     "output_type": "execute_result"
    }
   ],
   "source": [
    "# 셀 2\n",
    "df = pd.read_csv(\"data/processed/merged_annual_2024.csv\", encoding=\"utf-8-sig\")\n",
    "df.head()\n"
   ]
  },
  {
   "cell_type": "markdown",
   "id": "c46d3b4d",
   "metadata": {},
   "source": [
    "3. 히스토그램: 지표별 분포 & 활발 상권 강조"
   ]
  },
  {
   "cell_type": "code",
   "execution_count": 3,
   "id": "696bbe1a",
   "metadata": {},
   "outputs": [
    {
     "name": "stdout",
     "output_type": "stream",
     "text": [
      "75%: {'resident_pop_2024': np.float64(74461.0), 'floating_pop_2024': np.float64(29391231.0), 'estimated_sales_2024': np.float64(51203896016.5)}\n",
      "90%: {'resident_pop_2024': np.float64(120792.0), 'floating_pop_2024': np.float64(47808535.0), 'estimated_sales_2024': np.float64(163943965337.0)}\n",
      "50%: {'resident_pop_2024': np.float64(37840.0), 'floating_pop_2024': np.float64(15279374.0), 'estimated_sales_2024': np.float64(16923528105.0)}\n"
     ]
    }
   ],
   "source": [
    "# 셀 3\n",
    "metrics = [\"resident_pop_2024\",\"floating_pop_2024\",\"estimated_sales_2024\"]\n",
    "\n",
    "# 75%, 90%, 50% 값\n",
    "q75 = {m: df[m].quantile(0.75) for m in metrics}\n",
    "q90 = {m: df[m].quantile(0.90) for m in metrics}\n",
    "med = {m: df[m].median()          for m in metrics}\n",
    "\n",
    "print(\"75%:\", q75)\n",
    "print(\"90%:\", q90)\n",
    "print(\"50%:\", med)\n"
   ]
  },
  {
   "cell_type": "markdown",
   "id": "16821d93",
   "metadata": {},
   "source": [
    "4. 산점도: 지표 간 관계 & 활발 상권 표시"
   ]
  },
  {
   "cell_type": "code",
   "execution_count": 4,
   "id": "df7db4ea",
   "metadata": {},
   "outputs": [
    {
     "name": "stdout",
     "output_type": "stream",
     "text": [
      "■ is_active_25: 353\n",
      "■ is_active_10: 124\n",
      "■ is_active_50: 423\n"
     ]
    }
   ],
   "source": [
    "# 셀 4\n",
    "# high25/high10/high50 플래그\n",
    "for m in metrics:\n",
    "    df[f\"{m}_high25\"] = df[m] >= q75[m]\n",
    "    df[f\"{m}_high10\"] = df[m] >= q90[m]\n",
    "    df[f\"{m}_high50\"] = df[m] >= med[m]\n",
    "\n",
    "# 2개 이상 만족 → is_active_25, is_active_10\n",
    "df[\"is_active_25\"] = df[[f\"{m}_high25\" for m in metrics]].sum(axis=1) >= 2\n",
    "df[\"is_active_10\"] = df[[f\"{m}_high10\" for m in metrics]].sum(axis=1) >= 2\n",
    "\n",
    "# 모두 median 이상 → is_active_50\n",
    "df[\"is_active_50\"] = df[[f\"{m}_high50\" for m in metrics]].all(axis=1)\n",
    "\n",
    "# 플래그가 잘 생성되었는지 확인\n",
    "print(\"■ is_active_25:\", df[\"is_active_25\"].sum())\n",
    "print(\"■ is_active_10:\", df[\"is_active_10\"].sum())\n",
    "print(\"■ is_active_50:\", df[\"is_active_50\"].sum())\n"
   ]
  },
  {
   "cell_type": "code",
   "execution_count": 5,
   "id": "7efe2a8e",
   "metadata": {},
   "outputs": [],
   "source": [
    "# 셀 5\n",
    "df.to_csv(\"data/processed/merged_annual_2024_with_flags.csv\",\n",
    "          index=False, encoding=\"utf-8-sig\")\n"
   ]
  },
  {
   "cell_type": "code",
   "execution_count": 6,
   "id": "4c37705e",
   "metadata": {},
   "outputs": [
    {
     "name": "stdout",
     "output_type": "stream",
     "text": [
      "✅ merged_annual_2024_with_flags.csv 저장 완료\n"
     ]
    }
   ],
   "source": [
    "import os\n",
    "\n",
    "# 폴더가 없으면 생성\n",
    "os.makedirs(\"data/processed\", exist_ok=True)\n",
    "\n",
    "# 이제 안전하게 저장\n",
    "df.to_csv(\n",
    "    \"data/processed/merged_annual_2024_with_flags.csv\",\n",
    "    index=False,\n",
    "    encoding=\"utf-8-sig\"\n",
    ")\n",
    "print(\"✅ merged_annual_2024_with_flags.csv 저장 완료\")\n"
   ]
  }
 ],
 "metadata": {
  "kernelspec": {
   "display_name": "gopchang-locator",
   "language": "python",
   "name": "python3"
  },
  "language_info": {
   "codemirror_mode": {
    "name": "ipython",
    "version": 3
   },
   "file_extension": ".py",
   "mimetype": "text/x-python",
   "name": "python",
   "nbconvert_exporter": "python",
   "pygments_lexer": "ipython3",
   "version": "3.11.13"
  }
 },
 "nbformat": 4,
 "nbformat_minor": 5
}
