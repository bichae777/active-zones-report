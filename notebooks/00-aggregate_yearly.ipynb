{
 "cells": [
  {
   "cell_type": "code",
   "execution_count": 1,
   "id": "d09899f0",
   "metadata": {},
   "outputs": [
    {
     "name": "stdout",
     "output_type": "stream",
     "text": [
      "✔️ 루트 고정: /Users/bichae/active-zones-report\n",
      "▶ data/raw: ['서울시 상권분석서비스(추정매출-상권).csv', '서울시 상권분석서비스(길단위인구-상권).csv', '서울시 상권분석서비스(상주인구-상권).csv']\n"
     ]
    }
   ],
   "source": [
    "# 루트 탐색 & 이동 셀 (노트북 첫 셀 -- 재실행해도 안전)\n",
    "from pathlib import Path\n",
    "import os\n",
    "\n",
    "p = Path.cwd()\n",
    "while p != p.parent and not (p / \"data\" / \"raw\").exists():\n",
    "    p = p.parent\n",
    "\n",
    "if (p / \"data\" / \"raw\").exists():\n",
    "    os.chdir(p)\n",
    "    print(\"✔️ 루트 고정:\", Path.cwd())\n",
    "    print(\"▶ data/raw:\", [f.name for f in (p/\"data\"/\"raw\").iterdir()])\n",
    "else:\n",
    "    raise RuntimeError(\"❌ 프로젝트 루트를 찾지 못했습니다 -- VSCode에서 루트 폴더를 열었는지 확인하세요.\")\n"
   ]
  },
  {
   "cell_type": "code",
   "execution_count": 2,
   "id": "3e0afe03",
   "metadata": {},
   "outputs": [
    {
     "data": {
      "application/vnd.microsoft.datawrangler.viewer.v0+json": {
       "columns": [
        {
         "name": "index",
         "rawType": "int64",
         "type": "integer"
        },
        {
         "name": "상권_코드",
         "rawType": "int64",
         "type": "integer"
        },
        {
         "name": "resident_pop_2024",
         "rawType": "int64",
         "type": "integer"
        },
        {
         "name": "floating_pop_2024",
         "rawType": "int64",
         "type": "integer"
        },
        {
         "name": "estimated_sales_2024",
         "rawType": "int64",
         "type": "integer"
        }
       ],
       "ref": "b703a2a7-36d4-4833-8ddb-7091d78feabc",
       "rows": [
        [
         "0",
         "3001491",
         "105840",
         "52278828",
         "451309752219"
        ],
        [
         "1",
         "3001492",
         "21240",
         "173404731",
         "2323168283547"
        ],
        [
         "2",
         "3001493",
         "54746",
         "84336760",
         "592441401861"
        ],
        [
         "3",
         "3001494",
         "38850",
         "217027839",
         "1233135489141"
        ],
        [
         "4",
         "3001495",
         "202576",
         "96379422",
         "1797325989068"
        ]
       ],
       "shape": {
        "columns": 4,
        "rows": 5
       }
      },
      "text/html": [
       "<div>\n",
       "<style scoped>\n",
       "    .dataframe tbody tr th:only-of-type {\n",
       "        vertical-align: middle;\n",
       "    }\n",
       "\n",
       "    .dataframe tbody tr th {\n",
       "        vertical-align: top;\n",
       "    }\n",
       "\n",
       "    .dataframe thead th {\n",
       "        text-align: right;\n",
       "    }\n",
       "</style>\n",
       "<table border=\"1\" class=\"dataframe\">\n",
       "  <thead>\n",
       "    <tr style=\"text-align: right;\">\n",
       "      <th></th>\n",
       "      <th>상권_코드</th>\n",
       "      <th>resident_pop_2024</th>\n",
       "      <th>floating_pop_2024</th>\n",
       "      <th>estimated_sales_2024</th>\n",
       "    </tr>\n",
       "  </thead>\n",
       "  <tbody>\n",
       "    <tr>\n",
       "      <th>0</th>\n",
       "      <td>3001491</td>\n",
       "      <td>105840</td>\n",
       "      <td>52278828</td>\n",
       "      <td>451309752219</td>\n",
       "    </tr>\n",
       "    <tr>\n",
       "      <th>1</th>\n",
       "      <td>3001492</td>\n",
       "      <td>21240</td>\n",
       "      <td>173404731</td>\n",
       "      <td>2323168283547</td>\n",
       "    </tr>\n",
       "    <tr>\n",
       "      <th>2</th>\n",
       "      <td>3001493</td>\n",
       "      <td>54746</td>\n",
       "      <td>84336760</td>\n",
       "      <td>592441401861</td>\n",
       "    </tr>\n",
       "    <tr>\n",
       "      <th>3</th>\n",
       "      <td>3001494</td>\n",
       "      <td>38850</td>\n",
       "      <td>217027839</td>\n",
       "      <td>1233135489141</td>\n",
       "    </tr>\n",
       "    <tr>\n",
       "      <th>4</th>\n",
       "      <td>3001495</td>\n",
       "      <td>202576</td>\n",
       "      <td>96379422</td>\n",
       "      <td>1797325989068</td>\n",
       "    </tr>\n",
       "  </tbody>\n",
       "</table>\n",
       "</div>"
      ],
      "text/plain": [
       "     상권_코드  resident_pop_2024  floating_pop_2024  estimated_sales_2024\n",
       "0  3001491             105840           52278828          451309752219\n",
       "1  3001492              21240          173404731         2323168283547\n",
       "2  3001493              54746           84336760          592441401861\n",
       "3  3001494              38850          217027839         1233135489141\n",
       "4  3001495             202576           96379422         1797325989068"
      ]
     },
     "execution_count": 2,
     "metadata": {},
     "output_type": "execute_result"
    }
   ],
   "source": [
    "import pandas as pd\n",
    "df = pd.read_csv(\"data/processed/merged_annual_2024.csv\", encoding=\"utf-8-sig\")\n",
    "df.head()\n"
   ]
  },
  {
   "cell_type": "code",
   "execution_count": 3,
   "id": "939a13b2",
   "metadata": {},
   "outputs": [
    {
     "name": "stdout",
     "output_type": "stream",
     "text": [
      "✔️ 프로젝트 루트로 이동: /Users/bichae/active-zones-report\n",
      "▶ data/raw: ['서울시 상권분석서비스(추정매출-상권).csv', '서울시 상권분석서비스(길단위인구-상권).csv', '서울시 상권분석서비스(상주인구-상권).csv']\n"
     ]
    }
   ],
   "source": [
    "# ── 셀 0: 언제 어디서 실행해도 루트를 찾아줌 ─────────────────────────\n",
    "from pathlib import Path\n",
    "import os\n",
    "\n",
    "p = Path.cwd()\n",
    "while p != p.parent and not (p / \"data\" / \"raw\").exists():\n",
    "    p = p.parent\n",
    "\n",
    "if (p / \"data\" / \"raw\").exists():\n",
    "    os.chdir(p)\n",
    "    print(\"✔️ 프로젝트 루트로 이동:\", p)\n",
    "    print(\"▶ data/raw:\", [f.name for f in (p/'data'/'raw').iterdir()])\n",
    "else:\n",
    "    raise FileNotFoundError(\"data/raw 폴더를 찾지 못했습니다.\")\n"
   ]
  },
  {
   "cell_type": "code",
   "execution_count": 4,
   "id": "161b3ff3",
   "metadata": {},
   "outputs": [
    {
     "name": "stdout",
     "output_type": "stream",
     "text": [
      "▶ data/raw 폴더 내용:\n",
      "  - 서울시 상권분석서비스(추정매출-상권).csv\n",
      "  - 서울시 상권분석서비스(길단위인구-상권).csv\n",
      "  - 서울시 상권분석서비스(상주인구-상권).csv\n"
     ]
    }
   ],
   "source": [
    "import os\n",
    "\n",
    "print(\"▶ data/raw 폴더 내용:\")\n",
    "for fname in os.listdir(\"data/raw\"):\n",
    "    print(\"  -\", fname)\n"
   ]
  },
  {
   "cell_type": "code",
   "execution_count": 5,
   "id": "8709539a",
   "metadata": {},
   "outputs": [
    {
     "name": "stdout",
     "output_type": "stream",
     "text": [
      "✅ 연간 집계 완료, 결과 크기: (1571, 4)\n"
     ]
    },
    {
     "data": {
      "application/vnd.microsoft.datawrangler.viewer.v0+json": {
       "columns": [
        {
         "name": "index",
         "rawType": "int64",
         "type": "integer"
        },
        {
         "name": "상권_코드",
         "rawType": "int64",
         "type": "integer"
        },
        {
         "name": "resident_pop_2024",
         "rawType": "int64",
         "type": "integer"
        },
        {
         "name": "floating_pop_2024",
         "rawType": "int64",
         "type": "integer"
        },
        {
         "name": "estimated_sales_2024",
         "rawType": "int64",
         "type": "integer"
        }
       ],
       "ref": "aa9f0271-1755-4b00-903a-8569978de4b6",
       "rows": [
        [
         "0",
         "3001491",
         "105840",
         "52278828",
         "451309752219"
        ],
        [
         "1",
         "3001492",
         "21240",
         "173404731",
         "2323168283547"
        ],
        [
         "2",
         "3001493",
         "54746",
         "84336760",
         "592441401861"
        ],
        [
         "3",
         "3001494",
         "38850",
         "217027839",
         "1233135489141"
        ],
        [
         "4",
         "3001495",
         "202576",
         "96379422",
         "1797325989068"
        ]
       ],
       "shape": {
        "columns": 4,
        "rows": 5
       }
      },
      "text/html": [
       "<div>\n",
       "<style scoped>\n",
       "    .dataframe tbody tr th:only-of-type {\n",
       "        vertical-align: middle;\n",
       "    }\n",
       "\n",
       "    .dataframe tbody tr th {\n",
       "        vertical-align: top;\n",
       "    }\n",
       "\n",
       "    .dataframe thead th {\n",
       "        text-align: right;\n",
       "    }\n",
       "</style>\n",
       "<table border=\"1\" class=\"dataframe\">\n",
       "  <thead>\n",
       "    <tr style=\"text-align: right;\">\n",
       "      <th></th>\n",
       "      <th>상권_코드</th>\n",
       "      <th>resident_pop_2024</th>\n",
       "      <th>floating_pop_2024</th>\n",
       "      <th>estimated_sales_2024</th>\n",
       "    </tr>\n",
       "  </thead>\n",
       "  <tbody>\n",
       "    <tr>\n",
       "      <th>0</th>\n",
       "      <td>3001491</td>\n",
       "      <td>105840</td>\n",
       "      <td>52278828</td>\n",
       "      <td>451309752219</td>\n",
       "    </tr>\n",
       "    <tr>\n",
       "      <th>1</th>\n",
       "      <td>3001492</td>\n",
       "      <td>21240</td>\n",
       "      <td>173404731</td>\n",
       "      <td>2323168283547</td>\n",
       "    </tr>\n",
       "    <tr>\n",
       "      <th>2</th>\n",
       "      <td>3001493</td>\n",
       "      <td>54746</td>\n",
       "      <td>84336760</td>\n",
       "      <td>592441401861</td>\n",
       "    </tr>\n",
       "    <tr>\n",
       "      <th>3</th>\n",
       "      <td>3001494</td>\n",
       "      <td>38850</td>\n",
       "      <td>217027839</td>\n",
       "      <td>1233135489141</td>\n",
       "    </tr>\n",
       "    <tr>\n",
       "      <th>4</th>\n",
       "      <td>3001495</td>\n",
       "      <td>202576</td>\n",
       "      <td>96379422</td>\n",
       "      <td>1797325989068</td>\n",
       "    </tr>\n",
       "  </tbody>\n",
       "</table>\n",
       "</div>"
      ],
      "text/plain": [
       "     상권_코드  resident_pop_2024  floating_pop_2024  estimated_sales_2024\n",
       "0  3001491             105840           52278828          451309752219\n",
       "1  3001492              21240          173404731         2323168283547\n",
       "2  3001493              54746           84336760          592441401861\n",
       "3  3001494              38850          217027839         1233135489141\n",
       "4  3001495             202576           96379422         1797325989068"
      ]
     },
     "execution_count": 5,
     "metadata": {},
     "output_type": "execute_result"
    }
   ],
   "source": [
    "import pandas as pd\n",
    "\n",
    "# 1) 파일 경로\n",
    "resident_fp = \"data/raw/서울시 상권분석서비스(상주인구-상권).csv\"\n",
    "floating_fp = \"data/raw/서울시 상권분석서비스(길단위인구-상권).csv\"\n",
    "sales_fp    = \"data/raw/서울시 상권분석서비스(추정매출-상권).csv\"\n",
    "\n",
    "# 2) CSV 로드\n",
    "df_res   = pd.read_csv(resident_fp, encoding=\"cp949\")\n",
    "df_flo   = pd.read_csv(floating_fp, encoding=\"cp949\")\n",
    "df_sales = pd.read_csv(sales_fp,    encoding=\"cp949\")\n",
    "\n",
    "# 3) 연간 합계 집계\n",
    "res_yr = (\n",
    "    df_res\n",
    "    .groupby(\"상권_코드\")[\"총_상주인구_수\"]\n",
    "    .sum()\n",
    "    .reset_index()\n",
    "    .rename(columns={\"총_상주인구_수\":\"resident_pop_2024\"})\n",
    ")\n",
    "\n",
    "flo_yr = (\n",
    "    df_flo\n",
    "    .groupby(\"상권_코드\")[\"총_유동인구_수\"]\n",
    "    .sum()\n",
    "    .reset_index()\n",
    "    .rename(columns={\"총_유동인구_수\":\"floating_pop_2024\"})\n",
    ")\n",
    "\n",
    "sales_yr = (\n",
    "    df_sales\n",
    "    .groupby(\"상권_코드\")[\"당월_매출_금액\"]\n",
    "    .sum()\n",
    "    .reset_index()\n",
    "    .rename(columns={\"당월_매출_금액\":\"estimated_sales_2024\"})\n",
    ")\n",
    "\n",
    "# 4) 병합 & 저장\n",
    "df_annual = res_yr.merge(flo_yr, on=\"상권_코드\") \\\n",
    "                .merge(sales_yr, on=\"상권_코드\")\n",
    "\n",
    "df_annual.to_csv(\n",
    "    \"data/processed/merged_annual_2024.csv\",\n",
    "    index=False,\n",
    "    encoding=\"utf-8-sig\"\n",
    ")\n",
    "\n",
    "print(\"✅ 연간 집계 완료, 결과 크기:\", df_annual.shape)\n",
    "df_annual.head()\n"
   ]
  }
 ],
 "metadata": {
  "kernelspec": {
   "display_name": "gopchang-locator",
   "language": "python",
   "name": "python3"
  },
  "language_info": {
   "codemirror_mode": {
    "name": "ipython",
    "version": 3
   },
   "file_extension": ".py",
   "mimetype": "text/x-python",
   "name": "python",
   "nbconvert_exporter": "python",
   "pygments_lexer": "ipython3",
   "version": "3.11.13"
  }
 },
 "nbformat": 4,
 "nbformat_minor": 5
}
